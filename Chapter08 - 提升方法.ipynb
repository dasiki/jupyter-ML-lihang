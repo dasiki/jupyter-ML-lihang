{
 "cells": [
  {
   "cell_type": "markdown",
   "metadata": {},
   "source": [
    "# <font><b>第八章 提升(boosting)方法</b></font> P175-P194 ……20"
   ]
  },
  {
   "cell_type": "markdown",
   "metadata": {},
   "source": [
    "***"
   ]
  },
  {
   "cell_type": "markdown",
   "metadata": {},
   "source": [
    "1、提升(boosting)方法是一种常用的统计学习方法。在分类问题中，**它通过改变训练样本的权重，学习多个分类器，并将这些分类器进行线性组合，提升分类的性能**。"
   ]
  },
  {
   "cell_type": "markdown",
   "metadata": {},
   "source": [
    "## **一、提升方法AdaBoost算法** "
   ]
  },
  {
   "cell_type": "markdown",
   "metadata": {},
   "source": [
    "### **1、提升方法的基本思路**"
   ]
  },
  {
   "cell_type": "markdown",
   "metadata": {},
   "source": [
    "\n",
    "\n",
    "**提升方法基于这样一种思想：对于一个复杂任务来说，将多个专家的判断进行适当的综合所得出的判断，要比其中任何一个专家单独的判断好。**\n",
    "\n",
    "\n",
    "1、强可学习（strong learnable）：在概率近似正确（probably approximately correct,PAC) 学习框架中，一个概念（一个类），如果存在一个多项式的学习算法能够学习它，并且正确率很高，那么就称这个概率是**强可学习的**。\n",
    "\n",
    "2、弱可学习（weakly learnable）：一个概率（一个类），如果存在一个多项式的学习算法能够学习它，学习的正确率仅比随机猜测略好，那么就称这个概率是**弱可学习的**。\n",
    "\n",
    "3、对于分类问题而言，给定一个训练样本集，求比较粗糙的弱分类规则（弱分类器）要比求精确的分类规则（强分类器）容易得多。\n",
    "\n",
    "4、提升方法就是从弱学习算法出发，反复学习，得到一系列弱分类器（又称为基本分类器），然后组合这些弱分类器，构成一个强分类器。\n",
    "\n",
    "5、大多数的提升方法都是改变训练数据的概率分布（训练数据的权值分布），针对不同的训练数据分布调用弱学习算法学习一系列弱分类器。\n",
    "\n",
    "6、对提升方法来说，有两个问题：\n",
    "    \n",
    " 1） **问题一：在每一轮如何改变训练数据集的权值或概率分布？** AdaBoost的做法是，提高那些被前一轮弱分类器错误分类样本的权值，而降低那些被正确分类样本的权值。这样，没有正确分类的数据，由于权值加大而受到后一轮弱分类器的更大关注。\n",
    " \n",
    " 2） **问题二：如何将弱分类器组合成一个强分类器？** AdaBoost采用加权多数表决的方法。具体地，加大分类误差率小的弱分类器权值，使其在表决中起较大作用；减小分类误差率大的弱分类器的权值，使其在表决中起较小的作用。\n",
    " "
   ]
  },
  {
   "cell_type": "markdown",
   "metadata": {},
   "source": [
    "### **2、AdaBoost算法** P180"
   ]
  },
  {
   "cell_type": "markdown",
   "metadata": {},
   "source": [
    "$\\quad$<font size=3><b>   算法（AdaBoost）</b></font>"
   ]
  },
  {
   "cell_type": "markdown",
   "metadata": {},
   "source": [
    "输入：训练数据集 $T = \\{(x_1,y_1),(x_2,y_2),\\cdots,(x_N,y_N)\\}$ ，其中 $x_i \\in \\mathcal{X}\\subseteq R^n, y_i\\in\\mathcal{Y} = \\{-1,+1\\}$ ; 弱学习算法。\n",
    "\n",
    "输出：最终分类器 $G(x)$\n",
    "\n",
    " （1） 初始化训练数据的权值分布\n",
    "#### $$D_1 = (w_{11},\\cdots,w_{1i},\\cdots,w_{1N}),\\quad w_{1i} = \\frac{1}{N}, \\quad i=1,2,\\cdots,N$$\n",
    "<font><i><b>说明：假设训练数据集具有均匀的权值分布，即每个训练样本在基本分类器的学习中作用相同，这一假设保证第1步能够在原始数据上学习基本分类器$G_1(x)$</b></i></font>\n",
    "\n",
    " （2） 对$m = 1,2,\\cdots,M$ (m表示学习的轮数 )\n",
    " \n",
    "$\\quad$ (a) 使用具有权值分布 $D_m$ 的训练数据集学习，得到基本分类器\n",
    "#### $$G_m(x) = \\mathcal{X} \\rightarrow \\{-1,+1\\}$$\n",
    "$\\quad$ (b) 计算 $G_m(x)$ 在训练数据集上的分类误差率\n",
    "#### $$e_m = \\sum_{i=1}^N P(G_m(x_i)\\neq y_i) = \\sum_{i=1}^N w_{mi}I(G_m(x_i)\\neq y_i)$$\n",
    "$w_{mi}$ 表示第$m$轮中第 $i$ 个实例的权值，$\\sum_{i=1}^Nw_{mi} = 1$。 $G_m(x)$ 在加权的训练数据集上的分类误差率是被 $G_m(x)$ 误分类样本的权值之和。\n",
    "\n",
    "$\\quad$ (c) 计算 $G_m(x)$ 的系数\n",
    "#### $$\\alpha_m = \\frac{1}{2}log\\frac{1-e_m}{e_m}$$\n",
    "这里的对数是自然对数。 $\\alpha_m$ 表示 $G_m(x)$ 在最终分类器中的重要性。 当 $e_m \\leq \\frac{1}{2}$ 时，$\\alpha_m \\geq 0$，并且$\\alpha_m$ 随着 $e_m$的减少而增大，所以，分类误差率越小的基本分类器在最终分类器中的作用越大。\n",
    "\n",
    "$\\quad$ (d) 更新训练数据集的权值分布\n",
    "#### $$D_{m+1} = (w_{m+1,1},\\cdots,w_{m+1,i},\\cdots,w_{m+1,N})\\\\\n",
    "w_{m+1,i} = \\frac{w_{mi}}{Z_m}exp(-\\alpha_my_iG_m(x_i)) =\\left\\{\\begin{align} \\frac{w_{mi}}{Z_m}exp(-\\alpha_m) ,\\quad & G_m(x_i) = y_i\\\\\n",
    "                                                                              \\frac{w_{mi}}{Z_m}exp(\\alpha_m)  ,\\quad & G_m(x_i) \\neq y_i \\end{align}\\right. \\quad i=1,2,\\cdots,N$$\n",
    "这里，$Z_m$是规范化因子. \n",
    "#### $$Z_m = \\sum_{i=1}^N w_{mi}exp(-\\alpha_my_iG_m(x_i))$$ \n",
    "它使$D_{m+1}$ 成为一个概率分布\n",
    "\n",
    " （3） 构建基本分类器的线性组合\n",
    "#### $$f(x) = \\sum_{m=1}^M\\alpha_mG_m(x)$$\n",
    "得到最终分类器\n",
    "#### $$G(x) = sign(f(x)) = sign\\Big(\\sum_{m=1}^M\\alpha_mG_m(x)\\Big)$$\n",
    "<font><i><b> 线性分组合$f(x)$ 实现$M$ 个基本分类器的加权表决。系数 $\\alpha_m$ 表示了基本分类器 $g_m(x)$ 的重要性。这里，所有$\\alpha_m$ 之后并不为1。利用基本分类器的线性组合构建最终分类器是AdaBoost的另一个特点。</b></i></font>"
   ]
  },
  {
   "cell_type": "markdown",
   "metadata": {},
   "source": [
    "## **二、AdaBoost算法的训练误差分析**"
   ]
  },
  {
   "cell_type": "markdown",
   "metadata": {},
   "source": []
  },
  {
   "cell_type": "markdown",
   "metadata": {},
   "source": [
    "## **三、AdaBoost算法的解释**"
   ]
  },
  {
   "cell_type": "markdown",
   "metadata": {},
   "source": [
    "**可以认为，AdaBoost算法是模型为加法模型、损失函数为指数函数、学习算法为前向分步算法时的二分类学习方法。**"
   ]
  },
  {
   "cell_type": "markdown",
   "metadata": {},
   "source": [
    "### **1、前向分步算法**"
   ]
  },
  {
   "cell_type": "markdown",
   "metadata": {},
   "source": [
    "**加法模型（additive model）**\n",
    "#### $$f(x) = \\sum_{m=1}^M\\beta_m b(x;\\gamma_m) \\quad b(x;\\gamma_m)为基函数, \\gamma_m为基函数的参数；\\beta_m为基函数的系数$$\n",
    "\n",
    "在给定训练数据及损失函数$L(y,f(x))$ 的条件下，学习加法模型 $f(x)$ 成为经验风险极小化即损失函数极小化问题：\n",
    "#### $$\\mathop{min}\\limits_{\\beta_m,\\gamma_m} \\sum_{i=1}^N L\\Big(y_i,\\sum_{m=1}^M\\beta_m b(x_i;\\gamma_m)\\Big)$$\n",
    "通常这是一个复杂的优化问题。**前向分步算法（forward stagewise algorithm) 求解这一优化问题的想法是：** 因为学习的是加法模型，如果能够从前向后，每一步只学习一个基函数及其系数，逐步逼近优化目标函数，那么就可以简化优化的复杂度。具体地，每步只需要优化如下损失函数：\n",
    "#### $$\\mathop{min}\\limits_{\\beta,\\gamma} \\sum_{i=1}^N L\\Big(y_i,\\beta b(x_i;\\gamma)\\Big)$$"
   ]
  },
  {
   "cell_type": "markdown",
   "metadata": {},
   "source": [
    "$\\quad$<font size=3><b>   算法（前向分步算法）</b></font>"
   ]
  },
  {
   "cell_type": "markdown",
   "metadata": {},
   "source": [
    "输入：训练数据集 $T = \\{(x_1,y_1),(x_2,y_2),\\cdots,(x_N,y_N)\\}$ ; 损失函数 $L(y,f(x))$ ; 基函数 $\\{b(x;\\gamma)\\}$\n",
    "\n",
    "输出：加法模型 $f(x)$\n",
    "\n",
    " （1） 初始化 $f_0(x) = 0 $\n",
    " \n",
    " （2） 对 $m = 1,2,\\cdots,M$\n",
    " \n",
    " $\\quad$ (a) **极小化损失函数**\n",
    "  #### $$(\\beta_m,\\gamma_m) = arg \\mathop{min}\\limits_{\\beta\\gamma} \\sum_{i=1}^N L(y_i, f_{m-1}(x_i) + \\beta b(x_i; \\gamma))$$\n",
    "  得到参数 <font size=4> $\\beta_m,\\gamma_m$ </font> \n",
    "  \n",
    " $\\quad$ (b) **更新**\n",
    "  #### $$ f_m(x) = f_{m-1}(x) + \\beta_m b(x; \\gamma_m) $$\n",
    "\n",
    " （3） 得到加法模型\n",
    " #### $$f(x) =f_M(x) = \\sum_{m=1}^M\\beta_m b(x; \\gamma_m) $$\n",
    " 这样，前向分步算法将同是求解从$m=1$ 到 $M$ 所有参数 $\\beta_m, \\gamma_m$ 的优化问题简化为逐次求解各个 $\\beta_m,\\gamma_m$ 的优化问题。\n",
    " \n",
    " "
   ]
  },
  {
   "cell_type": "markdown",
   "metadata": {},
   "source": []
  },
  {
   "cell_type": "markdown",
   "metadata": {},
   "source": [
    "### **2、前向分步算法与AdaBoost**"
   ]
  },
  {
   "cell_type": "markdown",
   "metadata": {},
   "source": [
    "**AdaBoost算法是前向分步加法算法的特例。**"
   ]
  },
  {
   "cell_type": "markdown",
   "metadata": {},
   "source": [
    "## **四、提升树**"
   ]
  },
  {
   "cell_type": "markdown",
   "metadata": {},
   "source": [
    "**提升树是以分类树或回归树为基本分类器的提升方法。提升树被认为是统计学习中性能最好的方法之一。**"
   ]
  },
  {
   "cell_type": "markdown",
   "metadata": {},
   "source": [
    "### **1、提升树模型**"
   ]
  },
  {
   "cell_type": "markdown",
   "metadata": {},
   "source": [
    "1） 提升方法实际采用加法模型（即基函数的线性组合）与前向分步算法。\n",
    "\n",
    "2） **以决策树为基函数的提升方法称为提升树（boosting tree)**。对分类问题决策树是二叉分类树，对回归问题决策树是二叉回归树。基本分类器 $x<v$ 或 $x>v$，可以看作是由一个根结点直接连接两个叶结点的简单决策树，即所谓的决策树桩（decision stump）。 \n",
    "\n",
    "3） 提升树模型可以表示为决策树的加法模型:\n",
    "#### $$f_M(x) = \\sum_{m=1}^M T(x;\\Theta_m)$$ \n",
    "其中，$T(x;\\Theta_m)$ 表示决策树，$\\Theta_m$ 为决策树的参数， $M$ 为树的个数。\n",
    "\n",
    "\n",
    "\n"
   ]
  },
  {
   "cell_type": "markdown",
   "metadata": {},
   "source": [
    "### **2、提升树算法**"
   ]
  },
  {
   "cell_type": "markdown",
   "metadata": {},
   "source": [
    "提升树采用前向分步算法。首先确定初始提升树 $f_0(x) = 0 $, 第 $m$ 步的模型是\n",
    "#### $$f_m(x) = f_{m-1}(x) + T(x; \\Theta_m)$$\n",
    "其中，$f_{m-1}(x)$ 为当前模型，通过经验风险最小化确定下一棵决策树的参数 $\\Theta_m$ :\n",
    "#### $$\\hat{\\Theta}_m = arg\\mathop{min}\\limits_{\\Theta_m} \\sum_{i=1}^N L(y_i,f_m(x_i)) = arg\\mathop{min}\\limits_{\\Theta_m} \\sum_{i=1}^N L(y_i,f_{m-1}(x_i) + T(x_i; \\Theta_m))$$\n",
    "\n",
    "<font><i><b>不同问题的提升树学习算法，其主要区别在于使用的损失函数不同。包括用平方误差损失函数的回归问题，用指数损失函数的分类问题，以及一般损失函数的决策问题。</b></i></font>"
   ]
  },
  {
   "cell_type": "markdown",
   "metadata": {},
   "source": [
    "$\\quad$<font size=3><b>   算法（回归问题的提升树算法）</b></font>"
   ]
  },
  {
   "cell_type": "markdown",
   "metadata": {},
   "source": [
    "输入：训练数据集 $T = \\{(x_1,y_1),(x_2,y_2),\\cdots,(x_N,y_N)\\}, x_i\\in\\mathcal{X}\\subseteq R^n, y_i\\in\\mathcal{Y}\\subseteq R$ \n",
    "\n",
    "输出：提升树 $f_M(x)$\n",
    "\n",
    " （1） 初始化 $f_0(x) = 0 $\n",
    " \n",
    " （2） 对 $m = 1,2,\\cdots,M$\n",
    " \n",
    " $\\quad$ (a) 计算残差：\n",
    " #### $$r_{mi} = y_i - f_{m-1}(x_i), i=1,2,\\cdots,N$$\n",
    " $\\quad$ (b) 拟合残差 $r_{mi}$ 学习一个回归树，得到 $T(x; \\Theta_m)$\n",
    " \n",
    " $\\quad$ (c) 更新 $f_m(x) = f_{m-1}(x) + T(x; \\Theta_m) $\n",
    " \n",
    " （3） 得到一个回归问题的提升树 \n",
    " #### $$f_M(x) = \\sum_{m=1}^M T(x; \\Theta_m)$$"
   ]
  },
  {
   "cell_type": "markdown",
   "metadata": {},
   "source": [
    "### **3、梯度提升**"
   ]
  },
  {
   "cell_type": "markdown",
   "metadata": {},
   "source": [
    "当损失函数是平方损失和指数损失函数时，每一步的优化很简单。但是，对一般损失函数而言，往往每一步的优化并不那么容易。梯度损失（gradient boosting)算法，这是利用最速下降法的近似方法，其关键是利用损失损失函数的负梯度在当前模型的值\n",
    "#### $$-\\Big[\\frac{\\partial L(y,f(x_i))}{\\partial f(x_i)}\\Big]_{f(x) = f_{m-1}(x)}$$\n"
   ]
  },
  {
   "cell_type": "markdown",
   "metadata": {},
   "source": [
    "$\\quad$<font size=3><b>   算法（梯度提升算法）</b></font>"
   ]
  },
  {
   "cell_type": "markdown",
   "metadata": {},
   "source": [
    "输入：训练数据集 $T = \\{(x_1,y_1),(x_2,y_2),\\cdots,(x_N,y_N)\\}, x_i\\in\\mathcal{X}\\subseteq R^n, y_i\\in\\mathcal{Y}\\subseteq R$ ，损失函数$L(y,f(x))$\n",
    "\n",
    "输出：回归树 $\\hat{f}_(x)$\n",
    "\n",
    " （1） 初始化 \n",
    " #### $$f_0(x) = arg\\mathop{min}\\limits_c \\sum_{i=1}^N L(y_i,c) $$\n",
    " <font><i><b>估计使损失函数极小化的常数值，它是只有一个根结点的树</b></i></font>\n",
    "\n",
    " （2） 对 $m = 1,2,\\cdots,M$\n",
    " \n",
    " $\\quad$(a) 对$i = 1,2,\\cdots,N$ ， 计算\n",
    " #### $$r_{mi} = -\\Big[\\frac{\\partial L(y_i,f(x_i))}{\\partial f(x_i)}\\Big]_{f(x) = f_{m-1}(x)}$$\n",
    "  \n",
    " <font><i><b>计算损失函数的负剃度在当前模型的值，将它作为残差的估计。对于平方损失函数，它通常就是所说的残差；对于一般损失函数，它就是残差的近似值。</b></i></font>\n",
    " \n",
    " $\\quad$(b) 对$r_{mi}$ 拟合一个回归树，得到第 $m$ 棵树的叶结点区域 $R_{mj}, i=1,2,\\cdots,J$\n",
    "\n",
    "  <font><i><b>估计回归树叶结点区域，以拟合残差的近似值。</b></i></font>\n",
    "  \n",
    " $\\quad$(c) 对 $j = 1,2,\\cdots,J$，计算\n",
    " #### $$c_{mj} = arg \\mathop{min}\\limits_c \\sum_{x_i\\in R_{mj}} L(y_i,f_{m-1}(x_i) +c )$$\n",
    " \n",
    " <font><i><b>利用线性搜索估计叶结点区域的值，使损失函数极小化。</b></i></font>\n",
    "  \n",
    " $\\quad$(d) 更新 <font size=4> $f_m(x) = f_{m-1}(x) + \\sum_{j=1}^J c_{mj}I(x \\in R_{mj})$ </font>\n",
    "\n",
    "\n",
    " （3）得到回归树\n",
    " #### $$\\hat{f}(x) = f_M(x) = \\sum_{m=1}^M\\sum_{j=1}^J c_{mj}I(x\\in R_{mj})$$\n",
    " "
   ]
  },
  {
   "cell_type": "markdown",
   "metadata": {},
   "source": [
    "***"
   ]
  },
  {
   "cell_type": "markdown",
   "metadata": {},
   "source": [
    "<img src = \"exp8.2.png\" width=600 height=400></img>"
   ]
  },
  {
   "cell_type": "markdown",
   "metadata": {},
   "source": [
    "### <font size=4 color = 'blue'><b>待做 - python </b></font>"
   ]
  },
  {
   "cell_type": "markdown",
   "metadata": {},
   "source": [
    "***"
   ]
  },
  {
   "cell_type": "code",
   "execution_count": 25,
   "metadata": {},
   "outputs": [],
   "source": [
    "import pandas as pd\n",
    "import numpy as np \n",
    "import matplotlib.pyplot as plt\n",
    "\n",
    "def get_input_data_8_2():\n",
    "    data = [(1,5.56),(2,5.70),(3,5.91),(4,6.40),(5,6.80),(6,7.05),(7,8.90),(8,8.70),(9,9.00),(10,9.05)]\n",
    "    \n",
    "    X = [i[0] for i in data]\n",
    "    y = [i[1] for i in data]\n",
    "    \n",
    "    return X,y\n",
    "    "
   ]
  },
  {
   "cell_type": "code",
   "execution_count": 26,
   "metadata": {},
   "outputs": [
    {
     "data": {
      "text/plain": [
       "<matplotlib.collections.PathCollection at 0x239e92b2630>"
      ]
     },
     "execution_count": 26,
     "metadata": {},
     "output_type": "execute_result"
    },
    {
     "data": {
      "image/png": "[encoded data removed]",
      "text/plain": [
       "<Figure size 432x288 with 1 Axes>"
      ]
     },
     "metadata": {
      "needs_background": "light"
     },
     "output_type": "display_data"
    }
   ],
   "source": [
    "X,y = get_input_data_8_2()\n",
    "\n",
    "plt.scatter(X,y)\n",
    "\n",
    "# to be continued \n"
   ]
  },
  {
   "cell_type": "code",
   "execution_count": 24,
   "metadata": {},
   "outputs": [
    {
     "data": {
      "text/plain": [
       "[5.56, 5.7, 5.91, 6.4, 6.8, 7.05, 8.9, 8.7, 9.0, 9.05]"
      ]
     },
     "execution_count": 24,
     "metadata": {},
     "output_type": "execute_result"
    }
   ],
   "source": [
    "y"
   ]
  },
  {
   "cell_type": "markdown",
   "metadata": {},
   "source": [
    "***"
   ]
  },
  {
   "cell_type": "markdown",
   "metadata": {},
   "source": [
    "### <font size=4 color = 'blue'><b>AdaBoost算法实现 - python </b></font>"
   ]
  },
  {
   "cell_type": "code",
   "execution_count": 1,
   "metadata": {},
   "outputs": [
    {
     "data": {
      "text/plain": [
       "<matplotlib.legend.Legend at 0x224faba7128>"
      ]
     },
     "execution_count": 1,
     "metadata": {},
     "output_type": "execute_result"
    },
    {
     "data": {
      "image/png": "[encoded data removed]",
      "text/plain": [
       "<Figure size 432x288 with 1 Axes>"
      ]
     },
     "metadata": {
      "needs_background": "light"
     },
     "output_type": "display_data"
    }
   ],
   "source": [
    "import numpy as np\n",
    "import pandas as pd\n",
    "from sklearn.datasets import load_iris\n",
    "import matplotlib.pyplot as plt\n",
    "%matplotlib inline\n",
    "\n",
    "from sklearn.model_selection import train_test_split\n",
    "from collections import Counter\n",
    "\n",
    "def get_data():\n",
    "    # 加载数据\n",
    "    iris = load_iris()\n",
    "    df = pd.DataFrame(iris.data,columns=iris.feature_names)\n",
    "    df[\"label\"] = iris.target\n",
    "\n",
    "    # 重新定义列名\n",
    "    df.columns = [\"sepal length\",\"sepal width\",\"petal length\",\"petal width\",\"label\"]\n",
    "\n",
    "    # 定义输入数据集 取第0，1，及最后一列，前100条数据\n",
    "    data = np.array(df.iloc[:100,[0,1,-1]])\n",
    "\n",
    "    X=data[:,:-1]\n",
    "    y=data[:,-1]\n",
    "\n",
    "    return X,y\n",
    "\n",
    "\n",
    "X,y = get_data()\n",
    "y = np.array([1 if i==1 else -1 for i in y]) ##  y = {-1,+1}\n",
    "\n",
    "# 划分训练集、测试集\n",
    "X_train, X_test, y_train, y_test = train_test_split(X,y,test_size=0.2)\n",
    "\n",
    "# 画图\n",
    "plt.scatter(X[:50,0],X[:50,1],label=\"-1\")\n",
    "plt.scatter(X[50:,0],X[50:,1],label=\"1\")\n",
    "plt.legend()\n"
   ]
  },
  {
   "cell_type": "markdown",
   "metadata": {},
   "source": [
    "step1: 初始化训练数据的权值分布\n",
    "#### $$D_1 = (w_{11},\\cdots,w_{1i},\\cdots,w_{1N}),\\quad w_{1i} = \\frac{1}{N}, \\quad i=1,2,\\cdots,N$$\n",
    "<font><i><b>说明：假设训练数据集具有均匀的权值分布，即每个训练样本在基本分类器的学习中作用相同，这一假设保证第1步能够在原始数据上学习基本分类器$G_1(x)$</b></i></font>"
   ]
  },
  {
   "cell_type": "code",
   "execution_count": 11,
   "metadata": {},
   "outputs": [
    {
     "data": {
      "text/plain": [
       "[array([0.0125, 0.0125, 0.0125, 0.0125, 0.0125, 0.0125, 0.0125, 0.0125,\n",
       "        0.0125, 0.0125, 0.0125, 0.0125, 0.0125, 0.0125, 0.0125, 0.0125,\n",
       "        0.0125, 0.0125, 0.0125, 0.0125, 0.0125, 0.0125, 0.0125, 0.0125,\n",
       "        0.0125, 0.0125, 0.0125, 0.0125, 0.0125, 0.0125, 0.0125, 0.0125,\n",
       "        0.0125, 0.0125, 0.0125, 0.0125, 0.0125, 0.0125, 0.0125, 0.0125,\n",
       "        0.0125, 0.0125, 0.0125, 0.0125, 0.0125, 0.0125, 0.0125, 0.0125,\n",
       "        0.0125, 0.0125, 0.0125, 0.0125, 0.0125, 0.0125, 0.0125, 0.0125,\n",
       "        0.0125, 0.0125, 0.0125, 0.0125, 0.0125, 0.0125, 0.0125, 0.0125,\n",
       "        0.0125, 0.0125, 0.0125, 0.0125, 0.0125, 0.0125, 0.0125, 0.0125,\n",
       "        0.0125, 0.0125, 0.0125, 0.0125, 0.0125, 0.0125, 0.0125, 0.0125])]"
      ]
     },
     "execution_count": 11,
     "metadata": {},
     "output_type": "execute_result"
    }
   ],
   "source": [
    "_w = []                 # 存储每一轮学得中，学得到的弱分类器的权重\n",
    "_M,_N = X_train.shape   # 训练数据集的形状 M行，N列\n",
    "\n",
    "_iter_num = 50          # 定义迭代次数，即step2中学习的轮数\n",
    "learning_rate =1.0      # 学习率\n",
    "_alpha = []              # 弱分类器G(x)的系数\n",
    "\n",
    "clf_sets = []             # 弱分类器集合\n",
    "\n",
    "# 初始化训练数据集的权重\n",
    "w0 = np.ones(_M)/_M\n",
    "_w.append(w0)\n",
    "_w"
   ]
  },
  {
   "cell_type": "markdown",
   "metadata": {},
   "source": [
    "step2 :对$m = 1,2,\\cdots,M$ (m表示学习的轮数 )    \n",
    " \n",
    "$\\quad$ (a) 使用具有权值分布 $D_m$ 的训练数据集学习，得到基本分类器   <font size=3>$G_m(x) = \\mathcal{X} \\rightarrow \\{-1,+1\\}$</font>\n",
    "\n",
    "$\\quad$ (b) 计算 $G_m(x)$ 在训练数据集上的分类误差率  <font size=3> $e_m = \\sum_{i=1}^N P(G_m(x_i)\\neq y_i) = \\sum_{i=1}^N w_{mi}I(G_m(x_i)\\neq y_i)$ </font>\n",
    "\n",
    "$\\quad$ $\\quad$ $w_{mi}$ 表示第$m$轮中第 $i$ 个实例的权值，$\\sum_{i=1}^Nw_{mi} = 1$。 $G_m(x)$ 在加权的训练数据集上的分类误差率是被 $G_m(x)$ 误分类样本的权值之和。\n",
    "\n",
    "$\\quad$ (c) 计算 $G_m(x)$ 的系数    <font size=3> $\\alpha_m = \\frac{1}{2}log\\frac{1-e_m}{e_m}$ </font>\n",
    "\n",
    "$\\quad$ $\\quad$ 这里的对数是自然对数。 $\\alpha_m$ 表示 $G_m(x)$ 在最终分类器中的重要性。 当 $e_m \\leq \\frac{1}{2}$ 时，$\\alpha_m \\geq 0$，并且$\\alpha_m$ 随着 $e_m$的减少而增大，所以，分类误差率越小的基本分类器在最终分类器中的作用越大。\n",
    "\n",
    "$\\quad$ (d) 更新训练数据集的权值分布 <font size=3> $D_{m+1} = (w_{m+1,1},\\cdots,w_{m+1,i},\\cdots,w_{m+1,N})\\\\\n",
    "w_{m+1,i} = \\frac{w_{mi}}{Z_m}exp(-\\alpha_my_iG_m(x_i)) =\\left\\{\\begin{align} \\frac{w_{mi}}{Z_m}exp(-\\alpha_m) ,\\quad & G_m(x_i) = y_i\\\\\n",
    "                                                                              \\frac{w_{mi}}{Z_m}exp(\\alpha_m)  ,\\quad & G_m(x_i) \\neq y_i \\end{align}\\right. \\quad i=1,2,\\cdots,N$</font>\n",
    "\n",
    "这里，$Z_m$是规范化因子.  <font size=3> $Z_m = \\sum_{i=1}^N w_{mi}exp(-\\alpha_my_iG_m(x_i))$ </font>\n",
    " \n",
    "它使$D_{m+1}$ 成为一个概率分布"
   ]
  },
  {
   "cell_type": "code",
   "execution_count": 22,
   "metadata": {},
   "outputs": [],
   "source": [
    "# features = X_train[:,0]\n",
    "# labels = y_train\n",
    "\n",
    "# 定义 基本分类器 并返回该分类器误差 step2-a,step2-b \n",
    "def _G(features,labels,weight):\n",
    "    \"\"\"对某特征进行分类\n",
    "    输入：features 某一特征（某一列）; \n",
    "          labels:{-1,+1}, 即y\n",
    "          weight: 该轮的权重\n",
    "          \n",
    "    输出：best_v 分类阈值 x<best_v -> -1 else 1\n",
    "          error : 误差\n",
    "          clf_result: 分类器结果\n",
    "    \"\"\"    \n",
    "    min_error,best_v = 10000, 0.0 # 定义初始值\n",
    "    feature_len = len(features)   # 训练特征数\n",
    "    clf_result = None             # 分类结果\n",
    "\n",
    "    # 单维feature \n",
    "    min_feature = min(features)\n",
    "    max_feature = max(features)\n",
    "\n",
    "    n_step = np.round((max_feature - min_feature + learning_rate)/learning_rate,0)\n",
    "    # print(min_feature,max_feature,learning_rate,n_step)\n",
    "\n",
    "    for i in range(np.int(n_step)):\n",
    "        v = min_feature + i*learning_rate\n",
    "        result = np.array([1 if i>v else -1 for i in features])  # 备注1\n",
    "\n",
    "        err = np.sum(np.array([weight[i] if result[i]!=labels[i] else 0 for i in range(len(result))])) # 备注2\n",
    "\n",
    "        if err < min_error:\n",
    "            min_error = err \n",
    "            best_v = v\n",
    "            clf_result = result\n",
    "\n",
    "        # print(\"err:\",err,\"min_err\",min_error,\"v:\",v, \"best_v:\",best_v)\n",
    "        \n",
    "    return min_error,best_v,clf_result\n",
    "\n",
    "# min_error,best_v,clf_result = _G(features,labels,_w[0])      #########test\n",
    "\n",
    "# 计算弱分类器的系数 见step2-c\n",
    "def cal_alpha(error):\n",
    "    return 0.5*np.log((1-error)/error)\n",
    "\n",
    "# _alpha = cal_alpha(min_error)                            #########test\n",
    "\n",
    "# 更新数据集的权重 1、规范化因子 Z_m\n",
    "def _Z(clf_result,labels,alpha,weight):\n",
    "    \n",
    "    _z = np.sum(np.array([weight[i] * np.exp( - alpha * labels[i] * clf_result[i] ) for i in range(len(labels))]))\n",
    "    \n",
    "    return _z\n",
    "\n",
    "# _z = _Z(clf_result,labels,_alpha,w0)                 #########test\n",
    "        \n",
    "    \n",
    "# 更新数据集的权重\n",
    "def update_w(weight,z,alpha,labels,clf_result):\n",
    "    new_w = np.array([(weight[i] / z) * np.exp( - alpha * labels[i] * clf_result[i]) for i in range(len(labels))])\n",
    "    print(new_w)\n",
    "    return new_w\n",
    "\n",
    "# update_w(w0,_z,_alpha,labels,clf_result)\n"
   ]
  },
  {
   "cell_type": "code",
   "execution_count": 27,
   "metadata": {},
   "outputs": [
    {
     "name": "stdout",
     "output_type": "stream",
     "text": [
      "80 2\n",
      "epoch: 0\n",
      "min_err: 4.0 best_v: 0.5249999999999999 clf_result: [-1 -1 -1 -1 -1 -1 -1 -1 -1 -1 -1 -1 -1 -1 -1 -1 -1 -1 -1 -1 -1 -1 -1 -1\n",
      " -1 -1  1 -1 -1 -1 -1 -1 -1 -1 -1 -1 -1 -1 -1 -1 -1 -1 -1 -1 -1 -1 -1 -1\n",
      " -1 -1 -1 -1 -1 -1 -1  1 -1 -1 -1 -1 -1 -1 -1 -1 -1 -1 -1 -1 -1 -1 -1  1\n",
      " -1 -1 -1 -1 -1 -1 -1 -1]\n",
      "alpha: nan\n",
      "[nan nan nan nan nan nan nan nan nan nan nan nan nan nan nan nan nan nan\n",
      " nan nan nan nan nan nan nan nan nan nan nan nan nan nan nan nan nan nan\n",
      " nan nan nan nan nan nan nan nan nan nan nan nan nan nan nan nan nan nan\n",
      " nan nan nan nan nan nan nan nan nan nan nan nan nan nan nan nan nan nan\n",
      " nan nan nan nan nan nan nan nan]\n",
      "epoch: 1\n"
     ]
    },
    {
     "name": "stderr",
     "output_type": "stream",
     "text": [
      "c:\\users\\86150\\appdata\\local\\programs\\python\\python36\\lib\\site-packages\\ipykernel_launcher.py:45: RuntimeWarning: invalid value encountered in log\n"
     ]
    }
   ],
   "source": [
    "# 组合\n",
    "def fit(X,y):\n",
    "    # 对每个特征进行基本分类器分器，获得误差最小的维度，以及基本分类器\n",
    "    M,N = X.shape    \n",
    "    print(M,N)\n",
    "    \n",
    "    for epoch in range(_iter_num): \n",
    "        min_err,best_v,clf_result = 100000,None,None\n",
    "        print(\"epoch:\",epoch)\n",
    "        \n",
    "        weight = _w[epoch]\n",
    "        \n",
    "        for i in range(N):            \n",
    "            v,error,clf_result = _G(X[:,i],y,weight)\n",
    "            \n",
    "        if error < min_err:\n",
    "            min_err = error \n",
    "            best_v = v \n",
    "            clf_result = clf_result\n",
    "            \n",
    "        if min_err == 0 :\n",
    "            break\n",
    "         \n",
    "        print(\"min_err:\",min_err,\"best_v:\",best_v,\"clf_result:\",clf_result)\n",
    "        \n",
    "        # 计算alpha \n",
    "        alpha = cal_alpha(min_err)\n",
    "        _alpha.append(alpha)\n",
    "        print(\"alpha:\",alpha)\n",
    "        \n",
    "        # 更新分类器\n",
    "        clf_sets.append(clf_result)\n",
    "        \n",
    "        # 计算Z \n",
    "        z = _Z(clf_result,y,alpha,weight)\n",
    "        \n",
    "        # 更新下一个权重\n",
    "        next_w = update_w(weight, z, alpha, y, clf_result)\n",
    "        _w.append(next_w)\n",
    "        \n",
    "\n",
    "fit(X_train,y_train)"
   ]
  },
  {
   "cell_type": "code",
   "execution_count": 148,
   "metadata": {},
   "outputs": [
    {
     "data": {
      "text/plain": [
       "0.7141428428542851"
      ]
     },
     "execution_count": 148,
     "metadata": {},
     "output_type": "execute_result"
    }
   ],
   "source": [
    "# _w = []                 # 存储每一轮学得中，学得到的弱分类器的权重\n",
    "# _alpha = []              # 弱分类器G(x)的系数\n",
    "#clf_sets = []             # 弱分类器集合\n"
   ]
  },
  {
   "cell_type": "code",
   "execution_count": 142,
   "metadata": {},
   "outputs": [
    {
     "data": {
      "text/plain": [
       "0.8673005276940532"
      ]
     },
     "execution_count": 142,
     "metadata": {},
     "output_type": "execute_result"
    }
   ],
   "source": [
    "0.5*np.log((1-min_error)/min_error)"
   ]
  },
  {
   "cell_type": "markdown",
   "metadata": {},
   "source": [
    "**备注1：** 定义分类器 $\\left\\{\\begin{align}x>v \\Rightarrow +1 \\\\x\\leq v \\Rightarrow -1\\end{align}\\right.$ \n",
    "\n",
    "**备注2：** 弱分类器的误差  <font size=3> $e_m = \\sum_{i=1}^N P(G_m(x_i)\\neq y_i) = \\sum_{i=1}^N w_{mi}I(G_m(x_i)\\neq y_i)$ </font> ， 即被分错的样本的权重之和"
   ]
  },
  {
   "cell_type": "code",
   "execution_count": 111,
   "metadata": {},
   "outputs": [
    {
     "data": {
      "text/plain": [
       "array([4.3, 5.3, 5.4, 5.8, 5.2, 5.4, 5.7, 5.1, 5.9, 6.1, 5.7, 4.8, 4.8,\n",
       "       4.5, 5.4, 4.4, 5.8, 6.8, 5.6, 4.8, 5.1, 5. , 5.5, 6. , 4.6, 5.6,\n",
       "       6.1, 4.8, 6.9, 5. , 4.7, 6.5, 6.1, 5. , 5. , 5.1, 5.5, 6.1, 4.8,\n",
       "       7. , 4.6, 6.3, 4.9, 5.7, 5.7, 6.2, 5.1, 4.7, 5.1, 5.7, 5.4, 4.4,\n",
       "       4.9, 5.6, 5.8, 5.5, 6.7, 4.4, 5.5, 4.9, 4.6, 6. , 6. , 5.1, 5. ,\n",
       "       5.1, 6.7, 5.6, 5. , 6.3, 5. , 5. , 5.4, 6.6, 5.2, 6.4, 5.5, 5.1,\n",
       "       6.2, 4.9])"
      ]
     },
     "execution_count": 111,
     "metadata": {},
     "output_type": "execute_result"
    }
   ],
   "source": [
    "features"
   ]
  },
  {
   "cell_type": "code",
   "execution_count": 100,
   "metadata": {},
   "outputs": [
    {
     "data": {
      "text/plain": [
       "3.7"
      ]
     },
     "execution_count": 100,
     "metadata": {},
     "output_type": "execute_result"
    }
   ],
   "source": [
    "(max_feature - min_feature + learning_rate)/learning_rate"
   ]
  },
  {
   "cell_type": "markdown",
   "metadata": {},
   "source": [
    "输入：训练数据集 $T = \\{(x_1,y_1),(x_2,y_2),\\cdots,(x_N,y_N)\\}$ ，其中 $x_i \\in \\mathcal{X}\\subseteq R^n, y_i\\in\\mathcal{Y} = \\{-1,+1\\}$ ; 弱学习算法。\n",
    "\n",
    "输出：最终分类器 $G(x)$\n",
    "\n",
    "\n",
    "\n",
    "\n",
    "\n",
    " （3） 构建基本分类器的线性组合\n",
    "#### $$f(x) = \\sum_{m=1}^M\\alpha_mG_m(x)$$\n",
    "得到最终分类器\n",
    "#### $$G(x) = sign(f(x)) = sign\\Big(\\sum_{m=1}^M\\alpha_mG_m(x)\\Big)$$\n",
    "<font><i><b> 线性分组合$f(x)$ 实现$M$ 个基本分类器的加权表决。系数 $\\alpha_m$ 表示了基本分类器 $g_m(x)$ 的重要性。这里，所有$\\alpha_m$ 之后并不为1。利用基本分类器的线性组合构建最终分类器是AdaBoost的另一个特点。</b></i></font>"
   ]
  }
 ],
 "metadata": {
  "kernelspec": {
   "display_name": "Python 3",
   "language": "python",
   "name": "python3"
  },
  "language_info": {
   "codemirror_mode": {
    "name": "ipython",
    "version": 3
   },
   "file_extension": ".py",
   "mimetype": "text/x-python",
   "name": "python",
   "nbconvert_exporter": "python",
   "pygments_lexer": "ipython3",
   "version": "3.6.7"
  }
 },
 "nbformat": 4,
 "nbformat_minor": 4
}
