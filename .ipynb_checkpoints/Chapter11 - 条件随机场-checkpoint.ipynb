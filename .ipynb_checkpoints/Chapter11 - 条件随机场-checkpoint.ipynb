{
 "cells": [
  {
   "cell_type": "markdown",
   "metadata": {},
   "source": [
    "# <font><b>第十一章  条件随机场</b></font> P235-P256 ……22"
   ]
  },
  {
   "cell_type": "markdown",
   "metadata": {},
   "source": [
    "***\n",
    "\n",
    "条件随机场(conditional random field,CRF) 是给定一组输入随机变量条件下另一组输出随机变量的条件概率分布模型，其特点是假设输出随机变量构成马尔可夫随机场。"
   ]
  },
  {
   "cell_type": "markdown",
   "metadata": {},
   "source": [
    "## **一、概率无向图模型**  P235 - P238 4"
   ]
  },
  {
   "cell_type": "markdown",
   "metadata": {},
   "source": [
    "概率无向图模型（probabilistic undirected graphical model)，又为马尔可夫随机场（Markov random field)，**是一个可以由无向图表示的联合概率分布** 。"
   ]
  },
  {
   "cell_type": "markdown",
   "metadata": {},
   "source": [
    "### **1、模型定义**"
   ]
  },
  {
   "cell_type": "markdown",
   "metadata": {},
   "source": [
    "1) 图记作$G = (V,E)$, 其中，$V,E$ 分别为结点和边。\n",
    "\n",
    "2）**概率图模型（probabilistic graphical model)** 是由图表示的概率分布。设有联合概率分布 $P(Y), Y\\in \\mathcal{Y}$ 是一组随机变量。由无向图 $G=(V,E)$ 表示概率分布 $P(Y)$， 即在图 $G$ 中，结点 $v\\in V$ 表示随机变量 $Y_v , Y = (Y_v)_{v\\in V}$； 边$e \\in E$ 表示随机变量之间的概率依赖关系。\n",
    "\n",
    "3）**成对马尔可夫性** ： 设 $u$ 和 $v$ 是无向图 $G$ 中任意两个没有边连接的结点，结点 $u$ 和 $v$ 分别对应随机变量 $Y_u,Y_v$ 。 其他所有结点为 $O$，对应随机变量组 $Y_O$ 。 **成对马尔可夫性是指在给定随机变量组  $Y_O$ 的条件下，随机变量 $Y_u,Y_v$ 是条件独立的**，即 <font size=3> $ P(Y_u,Y_v |O) =  P(Y_u |O) P(Y_v |O)$</font>\n",
    "\n",
    "4）**局部马尔可夫性**： 设 $v\\in V$ 是无向图 $G$ 中任意一个结点， $W$ 是与 $v$ 有边连接的所有结点， $O$ 是 $v$ 和$W$ 以外的其他所有结点。 $v$ 表示的随机变量是 $Y_v$， $W$ 表示的随机变量是 $Y_W$, $O$ 表示的随机变量是 $Y_O$ . **局部马尔可夫性是指在给定随机变量组  $Y_W$ 的条件下随机变量$Y_v$ 与随机变量组 $Y_O$ 是独立的**， 即 <font size=4>$ P(Y_v,Y_O | Y_W) = P(Y_v | Y_W)P(Y_O | Y_W) \\mathop{\\Longrightarrow}\\limits^{P(Y_O|Y_W) >0} P(Y_v|Y_W) = P(Y_v|Y_W,Y_O)$</font>\n",
    "\n",
    "5）**全局马尔可夫性**： 设结点集合 $A,B$ 是 在无向图 $G$ 中被结点集合 $C$ 分开的任意结点集合；结点集合 $A,B,C$ 所对应的随机变量组分别为$Y_A,Y_B,Y_C$ 。**全局马尔可夫性是指给定随机变量组 $Y_C$ 条件下，随机变量组 $Y_A, Y_B$  是条件独立的**， 即 <font size=4> $P(Y_A,Y_B|Y_C) = P(Y_A|Y_C)P(Y_B|Y_C) $</font>\n",
    "\n",
    "6）**上述成对的、局部的、全局的马尔可夫性定义是等价的。**\n",
    "\n",
    "**定义（概率无向图模型）** 设有联合概率分布 $P(Y)$ ,由无向图 $G = (V,E)$ 表示，在图 $G$ 中，结点表示随机变量，边表示随机变量之间的依赖关系。如果联合概率分布 $P(Y)$ 满足成对的、局部的或全局的马尔可夫性，就称此联合概率分布为概率无向图模型 （probabilistic undirected graphical model），或马尔可夫随机场（Markov random field)\n",
    "\n",
    "<font size=3><i><b> 概率无向图模型的最大特点就是易于因子分解。</b></i></font>"
   ]
  },
  {
   "cell_type": "markdown",
   "metadata": {},
   "source": [
    "### **2、概率无向图模型的因子分解**"
   ]
  },
  {
   "cell_type": "markdown",
   "metadata": {},
   "source": [
    "**定义（团与最大团）** 无向图 $G$ 中**任何两个结点均有边连接**的结点子集称为团（clique). 若 $C$ 是无向图 $G$ 的一个团，并且不能再加进任何一个 $G$ 的结点使其成为一个更大的团，则称此 $C$ 为最大团（maximum clique）.\n",
    "\n",
    "将概率无向图模型的联合概率分布表示为其最大团上的随机变量的函数的乘积形式的操作，称为**概率无向图模型的因子分解（factorizataion）**\n",
    "\n",
    "**定理（Hammersley-Clifford定理）** 概率无向图模型的联合概率分布 $P(Y)$ 可以表示为如下形式，\n",
    "#### $$P(Y) = \\frac{1}{Z}\\prod_C\\Psi_C(Y_C), \\quad 其中， Z = \\sum_Y\\prod_C \\Psi_C(Y_C),\\quad \\Psi_C(Y_C) = exp\\{-E(Y_C)\\} $$\n",
    "其中，$C$ 是无向图的最大团， $Y_C$ 是 $C$ 的结点对应的随机变量，$\\Psi_C(Y_C)$ 是 $C$ 上定义的严格正函数，乘积是在无向图所有的最大团上进行的。"
   ]
  },
  {
   "cell_type": "markdown",
   "metadata": {},
   "source": [
    "## **二、条件随机场的定义与形式**    P238 - P244 7 "
   ]
  },
  {
   "cell_type": "markdown",
   "metadata": {},
   "source": [
    "### **1、条件随机场定义**"
   ]
  },
  {
   "cell_type": "markdown",
   "metadata": {},
   "source": [
    "（1）**线性链条件随场可以用于标注等问题**\n",
    "\n",
    "（2）**在条件概率模型 $P(Y|X)$ 中，$Y$ 是输出变量，表示标记序列，$X$ 是输入变量，表示需要标注的观测序列，也把标记序列称为状态序列。**\n",
    "\n",
    "**定义（条件随机场）** 设 $X$ 与 $Y$是随机变量，$P(Y|X)$ 是在给定$X$ 的条件下 $Y$ 的条件概率分布。 若随机变量 $Y$ 构成一个由无向图 $G = (V,E)$ 表示的马尔可夫随机场，即 <font size = 4> $ P(Y_v |X,Y_w,w\\neq v) = P(Y_v |X,Y_w,w\\sim v) $</font> 对任意结点 $v$ 成立，则称条件概率分布 $P(Y|X)$ 为条件随机场。式中，$w\\sim v$ 表示在图 $G = (V,E)$ 中与结点 $v$ 有边连接的所有结点 $w,\\quad w\\neq v$ 表示结点 $v$ 以外的所有结点。\n",
    "\n",
    "**定义（线性链条件随机场）** 设 $X = (X_1,X_2,\\cdots,X_n), Y = (Y_1,Y_2,\\cdots,Y_n)$ 均为线性链表示的随机变量序列，若在给定随机变量序列 $X$ 的条件下，随机变量序列 $Y$ 的条件概率分布 $P(Y|X)$ 构成条件随机场，即满足马尔可夫性 <font size=4> $P(Y_i|X,Y_1,\\cdots,Y _{i-1},Y_{i+1},\\cdots,Y_n) = P(Y_i|X,Y_{i-1}Y_{i+1}),i = 1,2,\\cdots,n $ ，则称 $P(Y|X)$ 为线性链条件随机场。 在标注问题中， $X$ 表示输入观测序列，$Y$ 表示对应的输出标记序列或状态序列。\n",
    "\n",
    "<img src = \"crf1.png\" ></img>\n"
   ]
  },
  {
   "cell_type": "markdown",
   "metadata": {},
   "source": [
    "### **2、条件随机场的参数化形式**"
   ]
  },
  {
   "cell_type": "markdown",
   "metadata": {},
   "source": [
    "**定理（线性链条件随机场的参数化形式）** 设 $P(Y|X)$ 为线性链条件随机场，则在随机变量 $X$ 取值为 $x$ 的条件下，随机变量 $Y$ 取值为 $y$ 的条件概率有如下形式：\n",
    "#### $$P(y|x) = \\frac{1}{Z(x)} exp\\Bigg( \\sum_{i,k}\\lambda_k t_k (y_{i-1},y_i,x,i) + \\sum_{i,l}\\mu_l s_l(y_i,x,i)\\Bigg)$$\n",
    "其中，\n",
    "#### $$Z(x) = \\sum_y exp\\Bigg( \\sum_{i,k}\\lambda_k t_k (y_{i-1},y_i,x,i) + \\sum_{i,l}\\mu_l s_l(y_i,x,i)\\Bigg)$$\n",
    "式中，$t_k$ 和 $s_l$ 是特征函数， $\\lambda_k$ 和 $\\mu_l$ 是对应的权值。$Z(x) $ 是对应的权值，求和是在所有可能的输出序列上进行的。\n",
    "\n",
    "$t_k$ 是定义在边上的特征函数，称为**转移特征，依赖于当前和前一个位置**；$s_l$ 是定义在结点上的特征函数，称为**状态特征，依赖于当前状态。** $t_k$ 和 $s_l$ 都依赖于位置，是局部特征函数。\n",
    "\n",
    "$t_k$ 和 $s_l$ 通常取值为1或0，当满足条件时取值为1，否则0。条件随机场完全由特征函数$t_k$ ， $s_l$ 和对应的权值 $\\lambda_k$ ， $\\mu_l$ 确定。\n",
    "\n",
    "**线性链条件随机场也是对数线性模型(log linear model)**"
   ]
  },
  {
   "cell_type": "markdown",
   "metadata": {},
   "source": [
    "### **3、条件随机场的简化形式**"
   ]
  },
  {
   "cell_type": "markdown",
   "metadata": {},
   "source": [
    "将转移特征和状态特征及其权值用统一的符号表示。设有 $K_1$ 个转移特征, $K_2$ 个状态特征, $K = K_1 + K_2$，记\n",
    "#### $$f_k(y_{i-1},y_i,x,i) = \\left\\{\\begin{align} & t_k(y_{i-1},y_i,x,i), & \\quad & k=1,2,\\cdots,K1 \\\\ & s_l(y_i,x,i) ,&  \\quad & k=K_1+l; l=1,2,\\cdots,K_2 \\end{align}\\right.$$\n",
    "对转移和状态特征在各个位置的 $i$ 求和，记作 <font size=4> $f_k(y,x) = \\sum\\limits_{i=1}^n f_k(y_{i-1},y_i,x,i),\\quad k=1,2,\\cdots,K$</font>\n",
    "\n",
    "用 $w_k$ 表示 特征 $f_k(y,x)$ 的权值，即 <font size=4>$w_k = \\left\\{\\begin{align}& \\lambda_k,& \\quad & k=1,2,\\cdots,K_1 \\\\ & \\mu_l,& \\quad & k=K_1+l;l=1,2,\\cdots,K_2 \\end{align}\\right.$</font>\n",
    "\n",
    "于是条件随机场可表示为 \n",
    "#### $$\\begin{align} & P(y|x) = \\frac{1}{Z(x)} exp \\sum_{k=1}^K w_kf_k(y,x) \\\\& Z(x) = \\sum_y exp \\sum_{k=1}^K w_k f_k(y,x) \\end{align}$$\n",
    "\n",
    "若以 $w$ 表示权值向量，即 <font size=4>$ w = (w_1,w_2,\\cdots,w_K)^T$</font>\n",
    "\n",
    "以 $F(y,x)$ 表示全局特征向量，即 <font size=4>$ F(y,x) = (f_1(y,x),f_2(y,x),\\cdots,f_K(y,x))^T$</font>\n",
    "\n",
    "则条件随机场可写成向量 $w$ 与 $F(y,x)$ 的内积形式：\n",
    "#### $$ P_w(y|x) = \\frac{exp(w\\bullet F(y,x))}{Z_w(x)},\\quad 其中，Z_w(x) = \\sum_y exp(w\\bullet F(y,x))$$\n"
   ]
  },
  {
   "cell_type": "markdown",
   "metadata": {},
   "source": [
    "### **4、条件随机场的矩阵形式**"
   ]
  },
  {
   "cell_type": "markdown",
   "metadata": {},
   "source": [
    "假设 $P_w(y|x)$ 是线性链条件随机场，表示对给定观测序列 $x$ , 相应的标记序列 $y$ 的条件概率。 \n",
    "\n",
    "对每个标记序列引进特殊的起点和终点状态标记 $y_0 = start,y_{n+1} = stop$\n",
    "\n",
    "对观测序列 $x$ 的每一个位置 $i=1,2,\\cdots,n+1$, 由于 $y_{i-1}$ 和 $y_i$ 在 $m$ 个标记中取值，可以定义一个 $m$ 阶矩阵随机变量 <font size=4> $M_i(x) = [ M_i(y_{i-1},y_i|x)]$</font>\n",
    "\n",
    "矩阵随机变量的元素为 <font size=4> $M_i(x) = [ M_i(y_{i-1},y_i |x )] = exp(W_i(y_{i-1},y_i|x)), \\quad W_i(y_{i-1},y_i|x) = \\sum_{k=1}^K w_kf_k(y_{i-1},y_i,x,i)$</font>\n",
    "\n",
    "条件概率 <font size = 4>  $P_w(y|x) = \\frac{1}{Z_w(x)} \\prod_{i=1}^{n+1} M_i(y_{i-1},y_i|x),\\quad Z_w(x) = [M_1(x)M_2(x)\\cdots,M_{n+1}(x)]_{start,stop}$</font>\n",
    "\n",
    "规范化因子 $Z_w(x)$ 是以 开始状态 $start$ 为起点，终止状态 $stop$ 为终点通过状态的所有路径  $y_1y_2\\cdots,y_n$ 的非规范化概率 $\\prod_{i=1}^{n+1} M_i(y_{i-1},y_i|x)$ 之和。"
   ]
  },
  {
   "cell_type": "markdown",
   "metadata": {},
   "source": [
    "## **三、条件随机场的概率计算问题**    P244 - P247 4 "
   ]
  },
  {
   "cell_type": "markdown",
   "metadata": {
    "jupyter": {
     "source_hidden": true
    }
   },
   "source": [
    "### **1、前向-后向算法**"
   ]
  },
  {
   "cell_type": "markdown",
   "metadata": {},
   "source": [
    "### **2、概率计算**"
   ]
  },
  {
   "cell_type": "markdown",
   "metadata": {},
   "source": [
    "### **3、期望值的计算**"
   ]
  },
  {
   "cell_type": "markdown",
   "metadata": {},
   "source": []
  },
  {
   "cell_type": "markdown",
   "metadata": {},
   "source": [
    "## **四、条件随机场的学习算法**  P247 - P251 5"
   ]
  },
  {
   "cell_type": "markdown",
   "metadata": {
    "jupyter": {
     "source_hidden": true
    }
   },
   "source": [
    "### **1、改进的迭代尺度法**"
   ]
  },
  {
   "cell_type": "markdown",
   "metadata": {
    "jupyter": {
     "source_hidden": true
    }
   },
   "source": [
    "### **1、拟牛顿法**"
   ]
  },
  {
   "cell_type": "markdown",
   "metadata": {},
   "source": []
  },
  {
   "cell_type": "markdown",
   "metadata": {},
   "source": [
    "## **五、条件随机场的算法** P251 - P254 4"
   ]
  }
 ],
 "metadata": {
  "kernelspec": {
   "display_name": "Python 3",
   "language": "python",
   "name": "python3"
  },
  "language_info": {
   "codemirror_mode": {
    "name": "ipython",
    "version": 3
   },
   "file_extension": ".py",
   "mimetype": "text/x-python",
   "name": "python",
   "nbconvert_exporter": "python",
   "pygments_lexer": "ipython3",
   "version": "3.6.7"
  }
 },
 "nbformat": 4,
 "nbformat_minor": 4
}
