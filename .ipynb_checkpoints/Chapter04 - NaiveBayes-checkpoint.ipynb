{
 "cells": [
  {
   "cell_type": "markdown",
   "metadata": {},
   "source": [
    "# <font><b>第四章 朴素贝叶斯</b></font>"
   ]
  },
  {
   "cell_type": "markdown",
   "metadata": {},
   "source": [
    "————————————————————————————————————————————————————————————————"
   ]
  },
  {
   "cell_type": "markdown",
   "metadata": {},
   "source": [
    "1、朴素贝叶斯是典型的生成学习方法。生成学习方法由训练数据学习联合概率分布$P(X,Y)$，然后求得后验概率分布$P(Y|X)$. 即利用训练数据学习$P(X|Y)$和P(Y)的估计，得到联合概率分布$$P(X,Y) = P(Y)P(X|Y)$$ 概率估计方法可以是极大似然估计或贝叶斯估计。\n",
    "\n",
    "2、**朴素贝叶斯法的基本假设是条件独立性：** \n",
    "#### $$P(X=x|Y=c_k)  = P(X^{(1)}=x^{(1)},\\cdots,X^{(n)}=x^{(n)}|Y=c_k) =\\prod_{j=1}^nP(X^{(j)}|Y=c_k)$$ \n",
    "\n",
    "3、朴素贝叶斯法利用贝叶斯定理与学习到的联合概率模型进行分类预测。\n",
    "#### $$P(Y|X) = \\frac{P(X,Y)}{P(X)} = \\frac{P(Y)P(X|Y)}{\\sum\\limits_YP(Y)P(X|Y)}$$\n",
    "将输入$x$分到后验概率最大的类$y$.\n",
    "#### **朴素贝叶斯分类器**$$\\begin{align}\n",
    "y=f(x)&= arg \\mathop{max}\\limits_{c_k}P(Y=c_k|X=x) \\\\\n",
    "      &= arg \\mathop{max}\\limits_{c_k}\\frac{P(Y)P(X|Y)}{\\sum\\limits_YP(Y)P(X|Y)} \\\\\n",
    "      &= arg \\mathop{max}\\limits_{c_k} \\frac{P(Y=c_k)\\prod\\limits_j P(X^{(j)}=x^{(j)}|Y=c_k)}{\\sum_k P(Y=c_k)\\prod\\limits_j P(X^{(j)}=x^{(j)}|Y=c_k)}, k=1,2,\\cdots,K \\\\\n",
    "      &= arg \\mathop{max}\\limits_{c_k}P(Y=c_k)\\prod_j P(X^{(j)}=x^{(j)}|Y=c_k) \n",
    "\\end{align}\n",
    "$$\n",
    "后验概率最大等价于0-1损失函数时的期望风险最小化。\n"
   ]
  },
  {
   "cell_type": "markdown",
   "metadata": {},
   "source": [
    "4、**参数估计**\n",
    "\n",
    " **1）极大似然估计**\n",
    " \n",
    " 先验概率$P(Y=c_k)$的极大似然估计：$$P(Y=c_k)=\\frac{\\sum_{i=1}^NI(y_i=c_k)}{N}, i=1,2,\\cdots,K$$\n",
    " \n",
    " 第$j$个特征$x^{(j)}$的可能取集集合$\\{a_{j1},a_{j2},\\cdots,a_{j_{sj}}\\}$,**条件概率$P(X^{(j)}=a_{jl}|Y=c_k)$的极大似然估计：**$$P(X^{(j)}=a_{jl}|Y=c_k) = \\frac{\\sum\\limits_{i=1}^N I(x_i^{(j)}=a_{jl},y_i=c_k)}{\\sum\\limits_{i=1}^N I(y_i=c_k)}, j=1,2,\\cdots,n;  l=1,2,\\cdots,S_j; K=1,2,\\cdots,K$$其中，$x_i^{(j)}$表示第$i$个样本的第$j$个特征；$a_{jl}$是第$j$个特征可能取的第$l$个值；$I$为指示函数；"
   ]
  },
  {
   "cell_type": "markdown",
   "metadata": {},
   "source": [
    "**算法(贝叶斯算法)** ：计算输入实例$x$属于每个类$c_k$的概率，取概率最大的类为实例$x$的类别\n",
    "\n",
    "  输入： 训练数据$T=\\{(x_i,y_i)\\}$，其中，$x_i=(x_i^{(1)},x_i^{(2)},\\cdots,x_i^{(n)})^T$,$x_i^{(j)}$ 是第$i$个样本的第$j$个特征；$x_i^{(j)}\\in\\{a_{j1},a_{j2},\\cdots,a_{j_{sj}}\\}$ 为$x_i^{(j)}$ 的可能取值范围；实例$x$\n",
    "  \n",
    "  输出：实例$x$的分类 \n",
    "  \n",
    "  step1: 计算先验概率以及条件概率：\n",
    "  $$\\begin{align} & P(Y=c_k)=\\frac{\\sum_{i=1}^NI(y_i=c_k)}{N}, i=1,2,\\cdots,K\\\\\n",
    "                  & P(X^{(j)}=a_{jl}|Y=c_k) = \\frac{\\sum\\limits_{i=1}^N I(x_i^{(j)}=a_{jl},y_i=c_k)}{\\sum\\limits_{i=1}^N I(y_i=c_k)}, j=1,2,\\cdots,n;  l=1,2,\\cdots,S_j; K=1,2,\\cdots,K\n",
    "    \\end{align}$$\n",
    "  \n",
    "  step2: 对于给定的实例$x=(x^{(1)},x^{(2)},\\cdots,x^{(n)})^T$，计算 $$P(Y=c_k)\\prod_j^n P(X^{(j)}=x^{(j)}|Y=c_k), k=1,2,\\cdots,K$$\n",
    "  \n",
    "  step3: 确定实例$x$的分类 $$arg\\mathop{max}\\limits_{c_k}P(Y=c_k)\\prod_j^n P(X^{(j)}=x^{(j)}|Y=c_k)$$\n",
    "  \n",
    " **1）贝叶斯估计**\n",
    " \n",
    "   * 用极大似然估计可能出现概率为0的情况。会影响后验概率的计算结果，使分类产生偏差。**条件概率的贝叶斯估计：**\n",
    "   $$P(X^{(j)}=a_{jl}|Y=c_k) = \\frac{\\sum\\limits_{i=1}^N I(x_i^{(j)}=a_{jl},y_i=c_k) + \\lambda}{\\sum\\limits_{i=1}^N I(y_i=c_k) + S_j\\lambda}, j=1,2,\\cdots,n;  l=1,2,\\cdots,S_j; K=1,2,\\cdots,K$$ 其中，$\\lambda\\geq 0$\n",
    "   \n",
    " **先验概率的贝叶斯估计：** \n",
    "$$P_{\\lambda}(Y=c_k) = \\frac{\\sum_{i=1}^N I(y_i=c_k)+\\lambda}{N+K\\lambda}$$"
   ]
  },
  {
   "cell_type": "markdown",
   "metadata": {},
   "source": [
    "———————————————————————————————————————————————————————————————"
   ]
  },
  {
   "cell_type": "markdown",
   "metadata": {},
   "source": [
    "5、**模型**\n",
    "\n",
    "1）**高斯模型**\n",
    "\n",
    "特征的可能性被假设为高斯分布\n",
    "\n",
    "**概率密度函数：** $$P(x_i|y_k) = \\frac{1}{\\sqrt{2\\pi\\sigma_{yk}^2}}exp(-\\frac{(x_i-\\mu_{yk})^2}{2\\sigma_{yk}^2})$$\n",
    "\n",
    "* 数学期望(mean): $\\mu$\n",
    "\n",
    "* 方差：$\\sigma = \\frac{\\sum(X-\\mu)^2}{N}$\n",
    "\n",
    "\n",
    "2）**多项式模型**\n",
    "\n",
    "3）**伯努利模型**"
   ]
  },
  {
   "cell_type": "markdown",
   "metadata": {},
   "source": []
  },
  {
   "cell_type": "code",
   "execution_count": 20,
   "metadata": {},
   "outputs": [
    {
     "data": {
      "image/png": "[encoded data removed]",
      "text/plain": [
       "<Figure size 432x288 with 1 Axes>"
      ]
     },
     "metadata": {
      "needs_background": "light"
     },
     "output_type": "display_data"
    }
   ],
   "source": [
    "import numpy as np\n",
    "import pandas as pd\n",
    "from sklearn.datasets import load_iris\n",
    "import matplotlib.pyplot as plt\n",
    "%matplotlib inline\n",
    "\n",
    "from sklearn.model_selection import train_test_split\n",
    "from collections import Counter\n",
    "\n",
    "# 加载数据\n",
    "iris = load_iris()\n",
    "df = pd.DataFrame(iris.data,columns=iris.feature_names)\n",
    "df[\"label\"] = iris.target\n",
    "\n",
    "# 重新定义列名\n",
    "df.columns = [\"sepal length\",\"sepal width\",\"petal length\",\"petal width\",\"label\"]\n",
    "\n",
    "# df.label.value_counts()\n",
    "# df[\"label\"].value_counts()\n",
    "\n",
    "# 画图\n",
    "plt.scatter(df[:50][\"sepal length\"],df[:50][\"sepal width\"],label=\"0\")\n",
    "plt.scatter(df[50:100][\"sepal length\"],df[50:100][\"sepal width\"],label=\"1\")\n",
    "plt.xlabel(\"sepal length\")\n",
    "plt.ylabel(\"sepal length\")\n",
    "plt.legend()\n",
    "\n",
    "# 定义输入数据集 取第0，1，及最后一列，前100条数据\n",
    "data = np.array(df.iloc[:100,[0,1,-1]])\n",
    "\n",
    "X=data[:,:-1]\n",
    "y=data[:,-1]\n",
    "\n",
    "# 划分训练集、测试集\n",
    "X_train, X_test, y_train, y_test = train_test_split(X,y,test_size=0.2)\n"
   ]
  },
  {
   "cell_type": "markdown",
   "metadata": {},
   "source": [
    "**高斯模型**\n",
    "\n",
    "特征的可能性被假设为高斯分布\n",
    "\n",
    "**概率密度函数：** $$P(x_i|y_k) = \\frac{1}{\\sqrt{2\\pi\\sigma_{yk}^2}}exp(-\\frac{(x_i-\\mu_{yk})^2}{2\\sigma_{yk}^2})$$\n",
    "\n",
    "* 数学期望(mean): $\\mu$\n",
    "\n",
    "* 方差：$\\sigma = \\frac{\\sum(X-\\mu)^2}{N}$"
   ]
  },
  {
   "cell_type": "code",
   "execution_count": 9,
   "metadata": {},
   "outputs": [],
   "source": [
    "class NB:\n",
    "    def __init__(self):\n",
    "        self.model=None\n",
    "        \n",
    "    # 数学期望\n",
    "    def mean(X):\n",
    "        return sum(X)/len(X)\n",
    "    \n",
    "    # 方差\n",
    "    def stddev(self,X):\n",
    "        avg = self.mean(X)\n",
    "        return np.sqrt(sum([np.power(x-avg,2) for x in X]))/len(X)\n",
    "    \n",
    "    # 概率密度函数 p(x|y)\n",
    "    def Gaussian_prob(self,x,mean,stddev):\n",
    "        exponent = math.exp(-np.power(x-mean,2) / (2*np.power(stddev,2)))\n",
    "        return (1/(np.sqrt(2*np.pi)*stddev))*exponent\n",
    "    \n",
    "    # 处理X_train\n",
    "    def summarize(self,train_data):\n",
    "        summarize = [(self.mean(i),self.stddev(i)) for i in zip(train_data)]\n",
    "        return summarize\n",
    "    \n",
    "    # 先验概率：p(y=0),p(y=1)\n",
    "    def fit(self,X,y):\n",
    "        labels = list(set(y))  # [0.0, 1.0]\n",
    "        data = {label:[] for label in labels}  # {0.0: [], 1.0: []}\n",
    "        for f,label in zip(X,y):\n",
    "            data[label].append(f)\n",
    "        self.model = {   \n",
    "            label:self.summarize(value) for label,value in data.items()  # 往model中添加：0:[(mean,stddev)],1:[(mean,stddev)]\n",
    "        }\n",
    "    \n",
    "    # 计算概率\n",
    "    def cal_prob(self,input_data):\n",
    "        # summarize:{0.0:[(5.3,1.1),(3.42,0.4)],1.0:[(5.5,0.1),(3.2,0.9)]}\n",
    "        # input_data:[1.1,2.2]\n",
    "        \n",
    "        prob = {} \n",
    "        for label,value in self.model.items():\n",
    "            prob[label] = 1 \n",
    "            for i in range(len(value)):\n",
    "                mean,stddev = value[i]\n",
    "                prob[label] *= self.Gaussian_prob(input_data[i],mean,stddev)\n",
    "                \n",
    "        return prob\n",
    "    \n",
    "        \n",
    "    \n",
    "    \n",
    "    "
   ]
  },
  {
   "cell_type": "markdown",
   "metadata": {},
   "source": []
  }
 ],
 "metadata": {
  "kernelspec": {
   "display_name": "Python 3",
   "language": "python",
   "name": "python3"
  },
  "language_info": {
   "codemirror_mode": {
    "name": "ipython",
    "version": 3
   },
   "file_extension": ".py",
   "mimetype": "text/x-python",
   "name": "python",
   "nbconvert_exporter": "python",
   "pygments_lexer": "ipython3",
   "version": "3.6.7"
  }
 },
 "nbformat": 4,
 "nbformat_minor": 4
}
