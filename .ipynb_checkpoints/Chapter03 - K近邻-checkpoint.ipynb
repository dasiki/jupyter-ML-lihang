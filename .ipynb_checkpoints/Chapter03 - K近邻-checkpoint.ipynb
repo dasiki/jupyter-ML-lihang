{
 "cells": [
  {
   "cell_type": "markdown",
   "metadata": {},
   "source": [
    "# <font><b>第三章 K近邻法</b></font>"
   ]
  },
  {
   "cell_type": "markdown",
   "metadata": {},
   "source": [
    "__________________________________________"
   ]
  },
  {
   "cell_type": "markdown",
   "metadata": {},
   "source": [
    "1、K近邻法是一种基本的分类和回归方法。K近邻的基本做法：给定一个训练数据集，对新的输入实例，在训练数据集中找到与该实例最邻近的K个实例，这K个实例的多数属于某个类，就把该输入实例分为这个类。\n",
    "\n",
    "2、K近邻对应于基于训练数据集对特征空间的一个划分。K近邻中，当训练集、距离度量、K值及分类决策规则确定后，其结果唯一确定。\n",
    "\n",
    "3、**K近邻三要素**：距离度量，K值的选择和分类决策规则。\n",
    "    常用的距离度量是欧氏距离及 更一般的$L_p$距离。\n",
    "    \n",
    "    \n",
    "    \n",
    "   1）**距离度量**：特征空间两个实例点的距离是两个实例点的相似程度。可以是欧氏距离(Euclidean Distance)也可以是其他距离，如更一般的$L_p$距离($L_p$distance)或Minkowski距离(Minkowski distance):\n",
    "#### $$L_p距离：L_p(x_i,x_j) = \\lgroup\\sum_{l=1}^n|x_i^{(l)}-x_j^{(l)}|^p\\rgroup^{\\frac{1}{p}}$$\n",
    "\n",
    "#### $$\\left\\{\n",
    "\\begin{aligned}\n",
    "当p=2, 欧氏距离(Euclidean distance)： & L_2(x_i,x_j) = \\lgroup\\sum_{l=1}^n|x_i^{(l)}-x_j^{(l)}|^2\\rgroup^{\\frac{1}{2}} \\\\\n",
    "当p=1, 曼哈顿距离(Manhattan distance):& L_1(x_i,x_j) = \\sum_{l=1}^n|x_i^{(l)}-x_j^{(l)}| &                             \\\\\n",
    "当p=\\infty,它是各个坐标距离的最大值:   & L_{\\infty}(x_i,x_j) = \\mathop{max}\\limits_{l}|x_i^{(l)}-x_j^{(l)}| &\n",
    "\\end{aligned}\n",
    "\\right.\n",
    "$$\n",
    "   2）**k值选择**：K值小时，近邻模型更复杂；K值大时，K近邻模型更简单。K值反映了对近似误差和估计误差之间的衡量，通常由交叉验证选择最优的K。\n",
    "   \n",
    "   3）**分类决策规则**：常用的分类决策规则是多数表决，对应于经验风险最小化。$$y = \\mathop {argmax}\\limits_{cj}\\sum_{x_i\\in N_k(x)}I(y_i=c_j) , i=1,2,\\cdots,N; j=1,2,\\cdots,K$$\n",
    "   \n",
    "    \n",
    "4、K近邻的实现，需要考虑如何快速搜索K个近邻点。$kd$树是一种便于对k维空间中的数据进行快速检索的数据结构。kd树是二叉树，表示对K维空间的一个划分，其每个结点对应于k维空间划分中的一个超矩形区域。利用kd树可以省去对大部分数据点的搜索，从而减少搜索的计算量。\n",
    "\n",
    "5、K近邻法没有显式的学习过程。\n",
    "\n",
    "* **算法(K近邻法）:**\n",
    "\n",
    "    输入：训练数据集 $T = \\{(x_i,y_i)\\}$, 其中，$i=1,2,\\cdots,N,y_i\\in\\{c_1,c_2,\\cdots,c_k\\}$为实例的类别\n",
    "    \n",
    "    输出：实例$x$所属的类$y$\n",
    "    \n",
    "    step1: 根据给定的距离度量，在训练集$T$中找出与$x$最邻近的$k$个点，涵盖这$k$个点的$x$的领域记作$N_k$\n",
    "    \n",
    "    step2: 在$N_k(x)$中根据分类决策规则(如多数表决)决定$x$的类别 $y$:$$y = \\mathop {argmax}\\limits_{cj}\\sum_{x_i\\in N_k(x)}I(y_i=c_j) , i=1,2,\\cdots,N; j=1,2,\\cdots,K$$其中，$I$为指示函数，即当$y_i=c_j$时，$I$为1，否则为0\n",
    "\n",
    "_______________________________________________________________________________________________________________________________________\n",
    "\n",
    "* **算法流程(百度):**\n",
    "\n",
    "1. 准备数据，对数据进行预处理\n",
    "2. 选用合适的数据结构存储训练数据和测试元组\n",
    "3. 设定参数，如k\n",
    "4.维护一个大小为k的的按距离由大到小的优先级队列，用于存储最近邻训练元组。随机从训练元组中选取k个元组作为初始的最近邻元组，分别计算测试元组到这k个元组的距离，将训练元组标号和距离存入优先级队列\n",
    "5. 遍历训练元组集，计算当前训练元组与测试元组的距离，将所得距离L 与优先级队列中的最大距离Lmax\n",
    "6. 进行比较。若L>=Lmax，则舍弃该元组，遍历下一个元组。若L < Lmax，删除优先级队列中最大距离的元组，将当前训练元组存入优先级队列。\n",
    "7. 遍历完毕，计算优先级队列中k 个元组的多数类，并将其作为测试元组的类别。\n",
    "8. 测试元组集测试完毕后计算误差率，继续设定不同的k值重新进行训练，最后取误差率最小的k 值。"
   ]
  },
  {
   "cell_type": "markdown",
   "metadata": {},
   "source": [
    "_______________________________________________________________________________________________________________"
   ]
  },
  {
   "cell_type": "code",
   "execution_count": 120,
   "metadata": {},
   "outputs": [
    {
     "data": {
      "text/plain": [
       "<matplotlib.legend.Legend at 0x175f7e19208>"
      ]
     },
     "execution_count": 120,
     "metadata": {},
     "output_type": "execute_result"
    },
    {
     "data": {
      "image/png": "[encoded data removed]",
      "text/plain": [
       "<Figure size 432x288 with 1 Axes>"
      ]
     },
     "metadata": {
      "needs_background": "light"
     },
     "output_type": "display_data"
    }
   ],
   "source": [
    "import numpy as np\n",
    "import pandas as pd\n",
    "from sklearn.datasets import load_iris\n",
    "import matplotlib.pyplot as plt\n",
    "%matplotlib inline\n",
    "\n",
    "from sklearn.model_selection import train_test_split\n",
    "from collections import Counter\n",
    "\n",
    "# 加载数据\n",
    "iris = load_iris()\n",
    "df = pd.DataFrame(iris.data,columns=iris.feature_names)\n",
    "df[\"label\"] = iris.target\n",
    "\n",
    "# 重新定义列名\n",
    "df.columns = [\"sepal length\",\"sepal width\",\"petal length\",\"petal width\",\"label\"]\n",
    "\n",
    "# df.label.value_counts()\n",
    "# df[\"label\"].value_counts()\n",
    "\n",
    "# 画图\n",
    "plt.scatter(df[:50][\"sepal length\"],df[:50][\"sepal width\"],label=\"0\")\n",
    "plt.scatter(df[50:100][\"sepal length\"],df[50:100][\"sepal width\"],label=\"1\")\n",
    "plt.xlabel(\"sepal length\")\n",
    "plt.ylabel(\"sepal length\")\n",
    "plt.legend()\n"
   ]
  },
  {
   "cell_type": "code",
   "execution_count": 121,
   "metadata": {},
   "outputs": [],
   "source": [
    "# 定义输入数据集 取第0，1，及最后一列，前100条数据\n",
    "data = np.array(df.iloc[:100,[0,1,-1]])\n",
    "\n",
    "X=data[:,:-1]\n",
    "y=data[:,-1]\n",
    "\n",
    "# 划分训练集、测试集\n",
    "X_train, X_test, y_train, y_test = train_test_split(X,y,test_size=0.2)\n"
   ]
  },
  {
   "cell_type": "code",
   "execution_count": 122,
   "metadata": {},
   "outputs": [],
   "source": [
    "# 距离度量，K值的选择和分类决策规则\n",
    "class KNN:\n",
    "    def __init__(self,X_train,y_train,n_neighbors = 3, p=2):\n",
    "        \"\"\"\n",
    "        参数：\n",
    "            X_train,y_train：训练数据输入/输出值\n",
    "            n_neighbors: 类别数(即K值，临近点个数)\n",
    "            p：距离度量 p=2 欧氏距离\n",
    "        \"\"\"\n",
    "        self.n = n_neighbors\n",
    "        self.p = p \n",
    "        self.X_train = X_train\n",
    "        self.y_train = y_train\n",
    "        \n",
    "    def predict(self,X):\n",
    "        # 取出n个点\n",
    "        knn_list = []        \n",
    "        # 计算X与X_train_i中每一个值的距离，将距离以及x_train_i所属类别(即y_train_i存入knn_list中)\n",
    "        for i in range(self.n):    \n",
    "            dist = np.linalg.norm(X-self.X_train[i],ord = self.p) ## 距离度量\n",
    "            knn_list.append((dist,self.y_train[i]))  \n",
    "        \n",
    "        # 对剩余len(X_train) - n 个点计算距离\n",
    "        for i in range(self.n,len(self.X_train)):\n",
    "            max_index = knn_list.index(max(knn_list,key = lambda x:x[0]))\n",
    "            dist = np.linalg.norm(X-self.X_train[i],ord = self.p) ## 距离度量\n",
    "            if knn_list[max_index][0] > dist:\n",
    "                knn_list[max_index] = (dist,self.y_train[i]) \n",
    "                \n",
    "        # 统计\n",
    "        knn = [k[-1] for k in knn_list]\n",
    "        count_pairs = Counter(knn)\n",
    "        max_count = sorted(count_pairs.items(),key = lambda x:x[1])[-1][0]\n",
    "        print(\"knn_list: \",knn_list)\n",
    "        return max_count\n",
    "\n",
    "    def score(self,X_test,y_test):\n",
    "        right_count = 0\n",
    "        n = 10\n",
    "        for X,y in zip(X_test,y_test):\n",
    "            label = self.predict(X)\n",
    "            if label ==y:\n",
    "                right_count += 1\n",
    "                \n",
    "        return right_count/len(X_test)\n"
   ]
  },
  {
   "cell_type": "code",
   "execution_count": 123,
   "metadata": {},
   "outputs": [],
   "source": [
    "clf = KNN(X_train, y_train)\n",
    "# clf.score(X_test, y_test)"
   ]
  },
  {
   "cell_type": "code",
   "execution_count": 124,
   "metadata": {},
   "outputs": [
    {
     "name": "stdout",
     "output_type": "stream",
     "text": [
      "knn_list:  [(0.09999999999999964, 1.0), (0.09999999999999964, 1.0), (0.10000000000000009, 1.0)]\n",
      "Test Point: 1.0\n"
     ]
    }
   ],
   "source": [
    "test_point = [6.0, 3.0]\n",
    "print('Test Point: {}'.format(clf.predict(test_point)))"
   ]
  },
  {
   "cell_type": "code",
   "execution_count": 125,
   "metadata": {},
   "outputs": [
    {
     "data": {
      "text/plain": [
       "<matplotlib.legend.Legend at 0x175f59ed128>"
      ]
     },
     "execution_count": 125,
     "metadata": {},
     "output_type": "execute_result"
    },
    {
     "data": {
      "image/png": "[encoded data removed]",
      "text/plain": [
       "<Figure size 432x288 with 1 Axes>"
      ]
     },
     "metadata": {
      "needs_background": "light"
     },
     "output_type": "display_data"
    }
   ],
   "source": [
    "plt.scatter(df[:50]['sepal length'], df[:50]['sepal width'], label='0',color='red')\n",
    "plt.scatter(df[50:100]['sepal length'], df[50:100]['sepal width'], label='1',color='blue')\n",
    "plt.plot(test_point[0], test_point[1], 'bo', label='test_point',color = 'green')\n",
    "plt.xlabel('sepal length')\n",
    "plt.ylabel('sepal width')\n",
    "plt.legend()"
   ]
  },
  {
   "cell_type": "markdown",
   "metadata": {},
   "source": [
    "* 欧氏距离(Euclidean distance)： $$ L_2(x_i,x_j) = \\lgroup\\sum_{l=1}^n|x_i^{(l)}-x_j^{(l)}|^2\\rgroup^{\\frac{1}{2}} $$"
   ]
  },
  {
   "cell_type": "code",
   "execution_count": 131,
   "metadata": {},
   "outputs": [
    {
     "name": "stdout",
     "output_type": "stream",
     "text": [
      "knn_dist:  [(1.0295630140987002, 0.0), (0.3605551275463989, 1.0), (0.7211102550927976, 0.0)]\n"
     ]
    },
    {
     "data": {
      "text/plain": [
       "0.0"
      ]
     },
     "execution_count": 131,
     "metadata": {},
     "output_type": "execute_result"
    }
   ],
   "source": [
    "## 定义K值，距离度量\n",
    "K=3\n",
    "test_point = [6.0, 3.0] ## 测试数据\n",
    "\n",
    "## X_train,y_train 已知类别的训练样本\n",
    "\n",
    "knn_dist =[] #存储K个近邻点信息(distance,y_label)\n",
    "\n",
    "# step1: 默认X_train中前K个点为近邻点；对初始的K个近邻点计算欧氏距离，并存储距离信息，以及这k个点的y_label\n",
    "for i in range(K):\n",
    "    \n",
    "    temp = test_point - X_train[i]\n",
    "    l2_distance = np.sqrt(np.cumsum(np.power(np.abs(temp),2))[-1]) # 欧氏距离\n",
    "    knn_dist.append((l2_distance,y_train[i]))\n",
    "    \n",
    "print(\"knn_dist: \",knn_dist)\n",
    "\n",
    "# STEP2: 剩余的点，计算与test_point间的欧氏距离，如果小于knn_dist中的最大值，则knn_dist中，去掉最大值，插入当前点数据\n",
    "for i in range(K,len(X_train)):\n",
    "    \n",
    "    # 获取当前knn_dist中最大距离的索引\n",
    "    max_dist_index = knn_dist.index(max(knn_dist,key = lambda x:x[0]))\n",
    "    \n",
    "    # 计算欧氏距离\n",
    "    temp = test_point - X_train[i]\n",
    "    l2_distance = np.sqrt(np.cumsum(np.power(np.abs(temp),2))[-1]) # 欧氏距离\n",
    "    \n",
    "    # 如果knn_dist中最大距离大于l2_distance 则替换最大距离\n",
    "    if max_dist_index > l2_distance:\n",
    "        knn_dist[max_dist_index] = (l2_distance,y_train[i])\n",
    "        \n",
    "# 统计knn_dist中的y，按y的计数确定test_point所属类别\n",
    "knn = [k[-1] for k in knn_dist]\n",
    "\n",
    "count_pairs = Counter(knn)\n",
    "max_count = sorted(count_pairs.items(),key = lambda x:x[1])[-1][0]\n",
    "max_count"
   ]
  }
 ],
 "metadata": {
  "kernelspec": {
   "display_name": "Python 3",
   "language": "python",
   "name": "python3"
  },
  "language_info": {
   "codemirror_mode": {
    "name": "ipython",
    "version": 3
   },
   "file_extension": ".py",
   "mimetype": "text/x-python",
   "name": "python",
   "nbconvert_exporter": "python",
   "pygments_lexer": "ipython3",
   "version": "3.6.7"
  }
 },
 "nbformat": 4,
 "nbformat_minor": 4
}
