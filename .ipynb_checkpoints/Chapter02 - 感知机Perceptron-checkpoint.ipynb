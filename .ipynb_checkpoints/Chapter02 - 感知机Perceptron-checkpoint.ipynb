{
 "cells": [
  {
   "cell_type": "markdown",
   "metadata": {},
   "source": [
    "# <font><b>第二章 感知机(Perceptron)</b></font>"
   ]
  },
  {
   "cell_type": "markdown",
   "metadata": {},
   "source": []
  },
  {
   "cell_type": "markdown",
   "metadata": {},
   "source": [
    "1、感知机(perceptron)是二类分类的线性分类模型，其输入为实例的特征向量，输出为实例的类别，取+1和-1值。感知机对应输入空间(特征向量)中将实例划分为正负两类的分离超平面。\n",
    "\n",
    "2、属于判别模型，旨在求出将训练数据进行划分的分离超平面\n",
    "\n",
    "3、**感知机模型**：$f(x)=sign(w\\bullet x+b)$ ；其中，$w$和$b$为感知机模型的参数，$sign$是符号函数，即\n",
    "$$sign(x)=\\left\\{\n",
    "\\begin{aligned}\n",
    "+1,&     &x\\geq 0\\\\\n",
    "-1,&     &x < 0\n",
    "\\end{aligned}\n",
    "\\right.\n",
    "$$\n",
    "4、**感知机的学习策略**：即定义(经验)损失函数并将损失函数最小化。\n",
    "\n",
    "* 定义(数据集的线性可分性) 如果存在某个超平面$S:$ $$w\\cdot x +b =0$$ 能够将数据集的正实例点和负实例点完全正确的划分到超平面的两侧，那么，\n",
    "$$\\left\\{\n",
    "\\begin{aligned}\n",
    "对于所有y_i = +1的实例&  & \\Rightarrow &  & w\\cdot x +b >0 \\\\\n",
    "对于所有y_i = -1的实例&  & \\Rightarrow &  & w\\cdot x +b <0 \\\\\n",
    "\\end{aligned}\n",
    "\\right.\n",
    "$$ 则称该数据集为线性可分，否则不可分.\n",
    "\n",
    "* 对于误分类的数据来说，$-y_i(w\\cdot x +b)>0$ 成立: \n",
    "$$ \\Rightarrow \\left\\{\\begin{aligned} 误分为负类(-1)的数据:y_i=+1, (w\\cdot x +b)<0 &  & \\Rightarrow &  &-y_i(w\\cdot x +b)>0 \\\\误分为正类(+1)的数据:y_i=-1, (w\\cdot x +b)>0 &  & \\Rightarrow &  &-y_i(w\\cdot x +b)>0 \\end{aligned}\\right.$$\n",
    "\n",
    "* 假设超平面S的误分类点集合为$M$，那么所有误分类点到超平面$S$的总距离为$$-\\frac{1}{||w||}\\sum_{x_i\\in M}y_i(w\\cdot x_i +b)$$,不考虑$\\frac{1}{||w||}$,就得感知机的损失函数。\n",
    "* 感知机$sign(w\\cdot x +b)$的损失函数：$$L(w,b)= - \\sum_{x_i\\in M}y_i(w\\cdot x_i +b)$$其中，$M$为误分类点集合\n"
   ]
  },
  {
   "cell_type": "markdown",
   "metadata": {},
   "source": [
    "4、**感知机算法**：求参数$w,b$的值，使损失函数极小化：$$\\mathop {min} \\limits_{w,b}L(w,b)=- \\sum_{x_i\\in M}y_i(w\\cdot x_i +b)$$\n",
    "* 随机梯度下降法(stochastic gradient descent)，随机抽取一个误分类点使其梯度下降。\n",
    "\n",
    "    $w = w+\\eta y_ix_i$\n",
    "\n",
    "    $b = b+\\eta yi$\n",
    "    \n",
    "* <font> <b>算法(感知机学习算法原始形式):</b></font>\n",
    "\n",
    "    输入：训练数据集 $T=\\{(x_i,y_i)\\},y_\\in\\{-1,+1\\}, i=1,2,\\cdots,N,学习率(步长)\\eta(0<\\eta \\leq 1).$\n",
    "    \n",
    "    输出：$w,b$,感知机模型$f(x) = sign(w\\cdot x+b)$\n",
    "    \n",
    "    1）：选取初始$w_0,b_0$\n",
    "    \n",
    "    2）：在训练集中选择数据 $(x_i,y_i)$\n",
    "    \n",
    "    3）：如果$y_i(w\\cdot x +b)\\leq 0$\n",
    "    \n",
    "     $w\\leftarrow w + \\eta y_i x_i$\n",
    "    \n",
    "     $b\\leftarrow b + \\eta y_i$\n",
    "    \n",
    "    4）：返回 2），直至没有误分类点\n",
    "    \n",
    "* <font> <b>算法收敛性:</b></font> \n",
    "\n",
    "    误分类次数 $k\\leq (\\frac{R}{\\gamma})^2$ .其中，$R=\\mathop {max} \\limits_{1\\leq i\\leq N}||\\mathop x_i\\limits^{\\wedge}||$\n",
    "    \n",
    "    当训练集可分时，感知机原始算法是收敛的，存在多个解，这些解依赖于初值的选择。当训练集不可解时，感知机学习算法不收敛，迭代结果会发生震荡。\n",
    "    \n"
   ]
  },
  {
   "cell_type": "markdown",
   "metadata": {},
   "source": []
  },
  {
   "cell_type": "markdown",
   "metadata": {},
   "source": [
    "<font size=5><b> Perceptron </b></font>"
   ]
  },
  {
   "cell_type": "code",
   "execution_count": 7,
   "metadata": {},
   "outputs": [],
   "source": [
    "# 1.定义Perceptron类 包含 1）init(初始化w,b值) ；2）定义超平面(wx+b)函数 ；3）随机梯度下降\n",
    "import numpy as np \n",
    "class Perceptron_model:\n",
    "    def __init__(self):\n",
    "        # 初始化 w=1,b=0，学习率 l_rate = 1\n",
    "        self.w = np.ones(len(data[0])-1,dtype=np.float32)\n",
    "        self.b = 0\n",
    "        self.l_rate = 1\n",
    "        \n",
    "    ## 定义函数 ： w*x +b \n",
    "    def sign(self,x,w,b):\n",
    "        y = np.dot(x,w) +b \n",
    "        return y \n",
    "    \n",
    "    def fitting(self,X_train,Y_train):\n",
    "        \n",
    "        is_wrong = True ## 判断标志，判断是否有误分类点\n",
    "        \n",
    "        while is_wrong: ##如果训练集中有误分类点：\n",
    "            \n",
    "            wrong_count=0   ##误分类计数器\n",
    "            for i in range(len(X_train)): ##随机选取训练集\n",
    "                x=X_train[i]\n",
    "                y=Y_train[i]\n",
    "                if y*self.sign(x,self.w,self.b)<=0: ## 如果该数据被误分类 \n",
    "                    self.w = self.w + self.l_rate * np.dot(y,x) \n",
    "                    self.b = self.b + self.l_rate * y\n",
    "                    wrong_count +=1 #误分类计数器加1\n",
    "            if wrong_count==0:\n",
    "                is_wrong = False ## 当误分类计数器为0的时候，停止循环 \n",
    "        return \"Perceptron Model\"\n",
    "    "
   ]
  },
  {
   "cell_type": "code",
   "execution_count": 45,
   "metadata": {},
   "outputs": [
    {
     "data": {
      "text/plain": [
       "<matplotlib.legend.Legend at 0x1a6e6630198>"
      ]
     },
     "execution_count": 45,
     "metadata": {},
     "output_type": "execute_result"
    },
    {
     "data": {
      "image/png": "[encoded data removed]",
      "text/plain": [
       "<Figure size 432x288 with 1 Axes>"
      ]
     },
     "metadata": {
      "needs_background": "light"
     },
     "output_type": "display_data"
    }
   ],
   "source": [
    "import numpy as np\n",
    "import pandas as pd\n",
    "import matplotlib.pyplot as plt\n",
    "\n",
    "from sklearn.datasets import load_iris\n",
    "%matplotlib inline\n",
    "\n",
    "# 加载数据\n",
    "iris = load_iris()\n",
    "df = pd.DataFrame(iris.data,columns=iris.feature_names)\n",
    "df[\"label\"] = iris.target\n",
    "\n",
    "# 重新定义列名\n",
    "df.columns = [\"sepal length\",\"sepal width\",\"petal length\",\"petal width\",\"label\"]\n",
    "\n",
    "# df.label.value_counts()\n",
    "# df[\"label\"].value_counts()\n",
    "\n",
    "# 画图\n",
    "plt.scatter(df[:50][\"sepal length\"],df[:50][\"sepal width\"],label=\"0\")\n",
    "plt.scatter(df[50:100][\"sepal length\"],df[50:100][\"sepal width\"],label=\"1\")\n",
    "plt.xlabel(\"sepal length\")\n",
    "plt.ylabel(\"sepal length\")\n",
    "plt.legend()\n",
    "\n"
   ]
  },
  {
   "cell_type": "code",
   "execution_count": 21,
   "metadata": {},
   "outputs": [],
   "source": [
    "# 定义输入数据集 取第0，1，及最后一列，前100条数据\n",
    "data = np.array(df.iloc[:100,[0,1,-1]])\n",
    "\n",
    "X=data[:,:-1]\n",
    "y=data[:,-1]\n",
    "\n",
    "y=np.array([1 if j==1 else -1 for j in y])\n",
    "## 使用感知机型\n",
    "perceptron = Perceptron_model()\n",
    "perceptron.fitting(X,y)\n",
    "\n",
    "w = perceptron.w\n",
    "b = perceptron.b "
   ]
  },
  {
   "cell_type": "markdown",
   "metadata": {},
   "source": [
    " * <font><b>分离超平面</b></font>\n",
    "$$w\\cdot x +b =0 \\Rightarrow \\left\\{\n",
    "\\begin{aligned}\n",
    "\\Rightarrow &  &(w[0],w[1])\\cdot (x_i,y_i)^T + b =0    &\\\\\n",
    "\\Rightarrow &  & w[0]\\cdot x_i +w[1]\\cdot y_i + b =0   &\\\\\n",
    "\\Rightarrow &  & y_i = -\\frac{ w[0]\\cdot x_i + b}{w[1]}&\\\\\n",
    "\\end{aligned}\n",
    "\\right.\n",
    "$$"
   ]
  },
  {
   "cell_type": "code",
   "execution_count": 26,
   "metadata": {},
   "outputs": [
    {
     "data": {
      "text/plain": [
       "<matplotlib.legend.Legend at 0x1a6e6ea6f28>"
      ]
     },
     "execution_count": 26,
     "metadata": {},
     "output_type": "execute_result"
    },
    {
     "data": {
      "image/png": "[encoded data removed]",
      "text/plain": [
       "<Figure size 432x288 with 1 Axes>"
      ]
     },
     "metadata": {
      "needs_background": "light"
     },
     "output_type": "display_data"
    }
   ],
   "source": [
    "# 画图\n",
    "\n",
    "x_point = np.linspace(4,7,10)\n",
    "y_point = -(x_point * w[0] + b)/w[1]\n",
    "\n",
    "plt.plot(x_point,y_point)\n",
    "\n",
    "plt.scatter(df[:50][\"sepal length\"],df[:50][\"sepal width\"],label=\"0\")\n",
    "plt.scatter(df[50:100][\"sepal length\"],df[50:100][\"sepal width\"],label=\"1\")\n",
    "plt.xlabel(\"sepal length\")\n",
    "plt.ylabel(\"sepal length\")\n",
    "plt.legend()"
   ]
  },
  {
   "cell_type": "markdown",
   "metadata": {},
   "source": [
    "### sklearn实现"
   ]
  },
  {
   "cell_type": "code",
   "execution_count": 33,
   "metadata": {},
   "outputs": [
    {
     "data": {
      "text/plain": [
       "Perceptron(alpha=0.0001, class_weight=None, early_stopping=False, eta0=1.0,\n",
       "           fit_intercept=True, max_iter=1000, n_iter_no_change=5, n_jobs=None,\n",
       "           penalty=None, random_state=0, shuffle=True, tol=0.001,\n",
       "           validation_fraction=0.1, verbose=0, warm_start=False)"
      ]
     },
     "execution_count": 33,
     "metadata": {},
     "output_type": "execute_result"
    }
   ],
   "source": [
    "from sklearn.linear_model import Perceptron\n",
    "\n",
    "sk_perceptron = Perceptron()\n",
    "sk_perceptron.fit(X,y)\n"
   ]
  },
  {
   "cell_type": "code",
   "execution_count": 43,
   "metadata": {},
   "outputs": [
    {
     "data": {
      "text/plain": [
       "array([-5.])"
      ]
     },
     "execution_count": 43,
     "metadata": {},
     "output_type": "execute_result"
    }
   ],
   "source": [
    "sk_w = sk_perceptron.coef_\n",
    "sk_w = sk_w[0]\n",
    "sk_b = sk_perceptron.intercept_\n",
    "sk_b"
   ]
  },
  {
   "cell_type": "code",
   "execution_count": 44,
   "metadata": {},
   "outputs": [
    {
     "data": {
      "text/plain": [
       "<matplotlib.legend.Legend at 0x1a6eace66a0>"
      ]
     },
     "execution_count": 44,
     "metadata": {},
     "output_type": "execute_result"
    },
    {
     "data": {
      "image/png": "[encoded data removed]",
      "text/plain": [
       "<Figure size 432x288 with 1 Axes>"
      ]
     },
     "metadata": {
      "needs_background": "light"
     },
     "output_type": "display_data"
    }
   ],
   "source": [
    "# 画图\n",
    "\n",
    "x_point = np.linspace(4,7,10)\n",
    "y_point = -(x_point * sk_w[0] + sk_b)/sk_w[1]\n",
    "\n",
    "plt.plot(x_point,y_point)\n",
    "\n",
    "plt.scatter(df[:50][\"sepal length\"],df[:50][\"sepal width\"],label=\"0\")\n",
    "plt.scatter(df[50:100][\"sepal length\"],df[50:100][\"sepal width\"],label=\"1\")\n",
    "plt.xlabel(\"sepal length\")\n",
    "plt.ylabel(\"sepal length\")\n",
    "plt.legend()"
   ]
  }
 ],
 "metadata": {
  "kernelspec": {
   "display_name": "Python 3",
   "language": "python",
   "name": "python3"
  },
  "language_info": {
   "codemirror_mode": {
    "name": "ipython",
    "version": 3
   },
   "file_extension": ".py",
   "mimetype": "text/x-python",
   "name": "python",
   "nbconvert_exporter": "python",
   "pygments_lexer": "ipython3",
   "version": "3.6.7"
  }
 },
 "nbformat": 4,
 "nbformat_minor": 4
}
