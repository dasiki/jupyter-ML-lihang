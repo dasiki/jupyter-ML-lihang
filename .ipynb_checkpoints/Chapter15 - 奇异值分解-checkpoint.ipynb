{
 "cells": [
  {
   "cell_type": "markdown",
   "metadata": {},
   "source": [
    "# <font><b>第十五章 奇异值分解 </b></font> P291 - P316…… 26"
   ]
  },
  {
   "cell_type": "markdown",
   "metadata": {},
   "source": [
    "<font size=4 color = \"red\"><b>奇异值分解可以将一个比较复杂的矩阵用更小更简单的几个子矩阵的相乘来表示，这些小矩阵描述的是矩阵的重要特性。</b></font>\n",
    "****"
   ]
  },
  {
   "cell_type": "markdown",
   "metadata": {},
   "source": [
    "1、矩阵的奇异值分解是指将 $m\\times n$ 实矩阵 $A$ 表示为三个实矩阵乘积形式的运算： <font size=4> $A = U\\Sigma V^T$ </font> ； 其中，$U$ 是 $m$ 阶正交矩阵， $V$ 是 $m$ 阶正交矩阵， $\\Sigma$ 是 $m\\times n$ 矩形对角矩阵 <font size=4> $\\Sigma = diag(\\sigma_1,\\sigma_2,\\cdots,\\sigma_p),p = min\\{m,n\\}$ </font> 其对角线元素非负，且满足 <font size=4> $\\sigma_1 \\geq \\sigma_2 \\geq \\cdots, \\geq \\sigma_p  \\geq 0$ </font> \n",
    "\n",
    "2、任意给定一个实矩阵，其奇异值分解一定是存在，但并不唯一。\n",
    "\n",
    "3、奇异值分解包括 **紧奇异值分解** 和 **截断奇异值分解**。 **紧奇异值分解是与原始矩阵等秩的奇异值分解; 截断奇异值分解是比原始矩阵低秩的奇异值分解。** \n",
    "\n",
    "4、奇异值分解有明确的几何解释。**奇异值分解对应三个连续的线性变换：一个旋转变换，一个绽放变换和另一个旋转变换**。第一个和第三个旋转变换分别基于空间的标准正交基进行。\n",
    "\n",
    "5、设矩阵 $A$ 的奇异值分解为 <font size=4> $A = U\\Sigma V^T$ </font> ；则有 <font size=4> $A^TA = V(\\Sigma^T\\Sigma)V^T, AA^T = U(\\Sigma\\Sigma^T)U^T$ </font>， 即对称矩阵的特征分解可以由矩阵 $A$ 的奇异值分解矩阵表示。\n",
    "\n",
    "6、矩阵 $A$ 的奇异值分解可以通过求矩阵 $A^TA$ 的特征值和特征向量得到：$A^TA$ 的特征向量构成正交矩阵 $V$ 的列； 从 $AA^T$ 的特征值 $\\lambda_j$ 的平方根得到的奇异值 $\\sigma_i$，即 $\\sigma_j = \\sqrt{\\lambda_j} , j = 1,2,\\cdots,n$ ；对其由大到小排列，作为对角线元素，构成对角矩阵 $\\Sigma$；求正奇异值对应的左奇异向量，再求扩充的 $A^T$ 的标准正交基，构成正交矩阵 $U$ 的列。\n",
    "\n",
    "7、矩阵 $A = [a_{ij}]_{m\\times n}$ 的弗罗贝尼乌斯范数定义为 \n",
    "#### $$||A||_F = \\Bigg(\\sum_{i=1}^m \\sum_{j=1}^n (a_{ij})^2\\Bigg)^{\\frac{1}{2}}$$\n",
    "在秩不超过 $k$ 的 $m\\times n $矩阵的集合中，存在矩阵 $A$ 的弗罗贝尼乌斯范数意义下的最优近似矩阵 $X$。秩为 $k$ 的截断奇异值分解得到的矩阵 $A_k$ 能够达到这个最优值。奇异值分解是弗罗贝尼乌斯范数意义下，也就是平方损失意义下的矩阵最优近似。\n",
    "\n",
    "8、任意一个实矩阵 $A$ 可以由其外积式表示 <font size=4> $A = \\sigma_1u_1v_1^T + \\sigma_2u_2v_2^T + \\cdots + \\sigma_nu_nv_n^T$ </font> ; 其中，$u_kv_k^T$ 为 $m\\times n$ 矩阵， 是列向量 $u_k$ 和行向量 $v_k^T$ 的外积， $\\sigma_k$ 为奇异值， $u_k,v_k^T,\\sigma_k$ 通过矩阵 $A$ 的奇异值分解得到。\n"
   ]
  },
  {
   "cell_type": "markdown",
   "metadata": {},
   "source": [
    "## **一、奇异值分解的定义与性质**  P291 - P301 11"
   ]
  },
  {
   "cell_type": "markdown",
   "metadata": {},
   "source": [
    "**定义（奇异值分解）** 矩阵的奇异值分解是指，将一个非零的 $m\\times n$ 实矩阵 $A, A\\in \\mathcal{R}^{m\\times n}$， 表示为以下三个实矩阵乘积形式的运算，即进行矩阵的因子分解：\n",
    "#### $$ A = U\\Sigma V^T$$\n",
    "其中，$U$ 是 $m$ 阶正交矩阵（orthogonal matrix）, $V$ 是 $n$ 阶正交矩阵，$\\Sigma$ 是由降序排列的非负的对角线元素组成的 $m\\times n$ 矩形对角矩阵，满足\n",
    "#### $$ \\begin{align} & UU^T = I \\\\ & VV^T = I \\\\ & \\Sigma = diag(\\sigma_1,\\sigma_2,\\cdots,\\sigma_p) \\\\ & \\sigma_1 \\geq \\sigma_2 \\geq \\cdots \\geq \\sigma_p \\geq 0 \\\\ & p = min(m,n) \\end{align}$$    \n",
    "<font size=4>$U\\Sigma V^T$ </font> 称为矩阵 $A$ 的奇异值分解（singular value decomposition,SVD)， $\\sigma_i$ 称为矩阵 $A$ 的奇异值（singular value）, $U$ 的列向量向为左奇异向量（left singular vector)， $V$ 的列向量称为右奇异向量（right singular vector）。\n",
    "\n"
   ]
  },
  {
   "cell_type": "markdown",
   "metadata": {},
   "source": [
    "**奇异值分解不要求矩阵 $A$ 是方阵，事实上，矩阵的奇异值分解可以看作是方阵的对角化的推广**\n",
    "\n",
    "**紧奇异值分解是与原始矩阵等秩的奇异值分解，截断奇异值分解是比原始矩阵低秩的奇异值分解**\n",
    "\n",
    "**定义（紧奇异值分解）** 设有 $m \\times n$ 实矩阵 $A$， 其秩为 $rank(A) = r,r\\leq min(m,n)$，则称 $U_r\\Sigma_r V_r^T$ 为 $A$ 的紧奇异值分解（compact singular value decomposition），即  $A = U_r\\Sigma_r V_r^T$； 其中， $U_r$ 是 $m\\times r$ 矩阵， $V_r$ 是 $n\\times r$ 矩阵， $\\Sigma_r$ 是 $r$ 阶对角矩阵。 矩阵 $U_r$ 由完全奇异值分解中 $U$ 的前 $r$ 列、矩阵 $V_r$ 由 $V$ 的前 $r$ 列、矩阵 $\\Sigma_r$ 由 $\\Sigma$ 的前 $r$ 个对角线元素得到。**紧奇异值分解的对角矩阵 $\\Sigma_r$ 的秩与原始矩阵 $A$ 的秩相等**。  \n",
    "\n",
    "**定义（截断奇异值分解）** 设 $A$ 为 $m\\times n$ 实矩阵，其秩 $rank(A) = r$，且 $0<k<r$,则称 $U_k\\Sigma_kV_k^T$ 为矩阵 $A$ 的截断奇异值分解（truncated singular value decomposition） $A \\approx U_k\\Sigma_kV_k^T $ ； 其中 $U_k$ 是 $m\\times n$ 矩阵， $V_k$ 是 $n\\times k$矩阵，$\\Sigma_k$ 是 $k$ 阶对角矩阵；矩阵 $U_k$ 由完全奇异值分解中 $U$ 的前 $k$列、矩阵 $V_k$ 由 $V$ 的前 $k$ 列、矩阵 $\\Sigma_k$ 由 $\\Sigma$ 的前 $k$ 个对角线元素得到。对角矩阵 $\\Sigma_k$ 的秩比原始矩阵 $A$ 的秩低。 \n",
    "\n",
    "**奇异值分解是在平方损失（弗罗贝尼乌斯范数）意义下对矩阵的最优近似。紧奇异值分解对应着无损压缩，截断奇异值分解对应着有损压缩。** \n",
    "\n",
    "**线性变量可以分解为三个简单的变换：一个坐标系的旋转或反射变换、一个坐标轴的缩放变换、另一个坐标系的旋转或反射变换。**\n",
    "\n"
   ]
  },
  {
   "cell_type": "markdown",
   "metadata": {},
   "source": [
    "<font size=4> **主要性质：**</font>\n",
    "\n",
    "（1）设矩阵 $A$ 的奇异值分解为 $A = U\\Sigma V^T$， 则以下关系成立：\n",
    "#### $$\\begin{align} & A^TA = (U\\Sigma V^T)^T (U\\Sigma V^T) = (\\Sigma V^T)^T U^T U\\Sigma V^T = (V^T)^T (\\Sigma)^T (U^T U)\\Sigma V^T = V (\\Sigma^T \\Sigma )V^T \\\\\n",
    "                     & AA^T = (U\\Sigma V^T) (U\\Sigma V^T)^T = U\\Sigma V^T (V^T)^T (\\Sigma)^T U^T = U (\\Sigma\\Sigma^T) U^T\\end{align} $$ \n",
    "                     \n",
    "也就是说，矩阵 $A^TA$ 和 $AA^T$ 的特征分解存在，且可以由矩阵 $A$ 的奇异值分解矩阵表示。 **$V$ 的列向量是 $A^TA$ 的特征向量， $U$ 的列向量是 $AA^T$ 的特征向量**， $\\Sigma$ 的奇异值是 $A^TA$ 和 $AA^T$ 的特征值的平方根。\n",
    "\n",
    "***\n",
    "备注：证明 **$V$ 的列向量是 $A^TA$ 的特征向量**\n",
    "\n",
    "由（1） **特征值与特征向量（见数据方面）的基本应用：** 若矩阵 $A$ 可对角化，则其对角矩阵 $\\bigwedge$ 的主对角元素全部为 $A$ 的特征值，其余元素全部为0**。（一个矩阵的对角阵不唯一，其特征值可以换序，但是都存在由对应特征向量顺序组成的矩阵 $P$ 使 $P^{-1}AP = \\bigwedge$\n",
    "\n",
    "（2）以及正交矩阵的基本性质 ： $V^T = V^{-1}$  $AA^T = E$ 或 $A^TA = E$\n",
    "\n",
    "令 $W = A^TA = V (\\Sigma^T \\Sigma )V^T$ ：\n",
    "\n",
    "$V^{-1}WV = V^{-1}(V (\\Sigma^T \\Sigma )V^T) V = (V^{-1}V)(\\Sigma^T \\Sigma ) (V^TV) = \\Sigma^T \\Sigma = \\bigwedge$\n",
    "\n",
    "因此 $V$ 为 $W$ 即 $A^TA$ 由特征向量组成的矩阵。\n",
    "\n",
    "***\n",
    "（2）在矩阵 $A$ 的奇异分解中，奇异值、左奇异向量和右奇异向量之间存在对应关系。\n",
    "\n",
    "$\\quad$ 由 $A = U\\Sigma V^T$ 易知 $AV = U\\Sigma$，比较这一等式两端的第 $j$ 列，得到 $Av_j = \\sigma_ju_j,j = 1,2,\\cdots,n$， 这是矩阵 $A$ 的右奇异向量和奇异值、左奇异向量的关系。\n",
    "\n",
    "$\\quad$ 类似地， $A^TU = V\\Sigma^T \\Rightarrow \\left\\{\\begin{align} & A^Tu_j = \\sigma^T_jv_j, & \\quad & j =1,2,\\cdots,n \\\\ & A^Tu_j = 0 , & \\quad & j=n+1,n+2,\\cdots,m \\end{align}\\right.$ $\\quad$，这是矩阵 $A$ 的左奇异向量和右奇异向量的关系。\n",
    "\n",
    "（3）矩阵 $A$ 的奇异值分解中，奇异值 $\\sigma_1,\\sigma_2,\\cdots,\\sigma_n$ 是唯一的，而矩阵 $U$ 和 $V$ 不是唯一的。\n",
    "\n",
    "（4）矩阵 $A$ 和 $\\Sigma$ 的秩相等，等于正奇异值 $\\sigma_i$ 的个数 $r$（包含重复的奇异值）。 \n",
    "\n",
    "（5）矩阵 $A$ 的 $r$ 个右奇异向量 $v_1,v_2,\\cdots,v_r$ 构成 $A^T$ 的值域 $R(A^T)$ 的一组标准正交基。因为矩阵 $A^T$ 是从 $R^m$ 映射到 $R^n$ 的线性变换，则 $A^T$ 的值域 $R(A^T)$ 和 $A^T$ 的列空间是相同的， $v_1,v_2,\\cdots,v_r$ 是 $A^T$ 的一组标准正交基，因而也是 $R(A^T)$ 的一组标准正交基。\n",
    "\n",
    "$\\quad$ 矩阵 $A$ 的 $n-r$ 个右奇异向量 $v_{r+1},v_{r+2},\\cdots,v_n$ 构成 $A$ 的零空间 $N(A)$ 的一组标准正交基。\n",
    "\n",
    "$\\quad$ 矩阵 $A$ 的 $r$ 个左奇异向量$u_1,u_2,\\cdots,u_r$ 构成值域 $R(A)$ 的一组标准正交基。\n",
    "\n",
    "$\\quad$ 矩阵 $A$ 的 $m-r$ 个左奇异向量 $u_{r+1},u_{r+2},\\cdots,u_m$ 构成 $A^T$ 的零空间 $N(A^T)$ 的一组标准正交基。\n"
   ]
  },
  {
   "cell_type": "markdown",
   "metadata": {},
   "source": [
    "## **二、奇异值分解的计算** P302 - P306 5"
   ]
  },
  {
   "cell_type": "markdown",
   "metadata": {},
   "source": [
    "矩阵 $A$ 的奇异值分解可以通过求解对称矩阵 $A^TA$ 的特征值与特征向量得到。 \n",
    "\n",
    "$A^TA$ 的特征向量构成正交矩阵 $V$ 的列；$A^TA$ 的特征值 $\\lambda_j$ 的平方根为奇异值 $\\sigma_i$，即 <font size=4> $\\sigma_i = \\sqrt{\\lambda_j},j=1,2,\\cdots,n$ </font>  对其由大到小排列作为对角线元素，构成对角矩阵 $\\Sigma$ \n",
    "\n",
    "求正奇异值对应的左奇异值向量，再求扩充的 $A^T$ 的标准正交基，构成正交矩阵 $U$ 的列，从而得到 $A$ 的奇异值分解 $A = U\\Sigma V^T$ "
   ]
  },
  {
   "cell_type": "markdown",
   "metadata": {},
   "source": [
    "<font size=4 color=\"blue\"> **给定 $m\\times n$ 矩阵 $A$ 的奇异值分解的具体步骤：**</font>\n",
    "\n",
    "**（1）求 $A^TA$ 的特征值和特征向量** \n",
    "\n",
    "$\\quad$ 令 $W = A^TA; \\quad Wx = \\lambda x$ ，其中$\\lambda$ 是矩阵 $W$ 的**特征值**， $x$ 是 $W$属于特征值 $\\lambda$ 的**特征向量**\n",
    "\n",
    "$\\quad$ 求解特征方程 $(W - \\lambda E) x = 0 , E$ 为单位矩阵 \n",
    "\n",
    "$\\quad$ 得到特征值 $\\lambda_i$，并将特征值由大到小排列 $\\lambda_1 \\geq \\lambda_2 \\geq \\cdots \\geq \\lambda_n \\geq 0$， 将特征值 $\\lambda_i(i=1,2,\\cdots,n)$代入特征方程得到对应的特征向量 $x$。 \n",
    "\n",
    "**（2）求 $n$ 阶正交矩阵 $V$**\n",
    "\n",
    "$\\quad$ 将特征向量 $x$ 单位化，得到单位特征向量 $v_1,v_2,\\cdots,v_n$， 构成 $n$ 阶正交矩阵 $V$： $V = [v_1 \\quad v_2 \\quad \\cdots \\quad v_n]$ \n",
    "\n",
    "**（3）求 $m \\times n$ 对角矩阵 $\\Sigma$**\n",
    "\n",
    "$\\quad$ 计算 $A$ 的奇异值 $\\sigma_i = \\sqrt{\\lambda_i},\\quad i=1,2,\\cdots,n$ ，构造 $m \\times n$ 矩形对角矩阵 $\\Sigma$，主对角线元素是奇异值，其余元素为0，$\\Sigma = diag(\\sigma_1,\\sigma_2,\\cdots,\\sigma_n)$ \n",
    "\n",
    "**（4）求 $m$ 阶正交矩阵 $U$**\n",
    "\n",
    "$\\quad$ 对 $A$ 的前 $r$ 个正奇异值，令 <font size=4> $u_j = \\frac{1}{\\sigma_j}Av_j,j=1,2,\\cdots,r$ </font>，得到 $U = [u_1 \\quad u_2 \\quad \\cdots \\quad u_r]$ \n",
    "\n",
    "$\\quad$ 求 $A^T$ 的零空间的一组标准正交基 $\\{u_{r+1},u_{r+2},\\cdots,u_m\\}$，令 $U_2 = [u_{r+1} \\quad u_{r+2} \\quad \\cdots \\quad u_m]$，并令 $U = [U_1 \\quad U_2]$ \n",
    "\n",
    "**（5）得到奇异值分解**\n",
    "#### $$A = U\\Sigma V^T$$\n"
   ]
  },
  {
   "cell_type": "markdown",
   "metadata": {},
   "source": []
  },
  {
   "cell_type": "markdown",
   "metadata": {},
   "source": [
    "## **三、奇异值分解与矩阵近似** P306 - P312 7"
   ]
  },
  {
   "cell_type": "markdown",
   "metadata": {},
   "source": [
    "<font size=4>**弗罗贝尼乌斯范数**</font>\n",
    "\n",
    "**矩阵的弗罗贝尼乌斯范数是向量的 $L_2$范数的直接推广，对应着机器学习中的平方损失函数。**\n",
    "\n",
    "**定义（弗罗贝尼乌斯范数）** 设矩阵 $A \\in R^{m\\times n}, A=[a_{ij}]_{m\\times n}$，定义矩阵 $A$ 的弗罗贝尼乌斯范数为\n",
    "#### $$ ||A||_F = \\Big(\\sum_{i=1}^m \\sum_{j=1}^n (a_{ij})^2\\Big)^{\\frac{1}{2}}$$ \n",
    "\n",
    "<font size=3 color='blue'><b> 引理 设矩阵 $A \\in R^{m\\times n},A$ 的奇异值分解为 $U\\Sigma V^T$， 其中 $\\Sigma = diag(\\sigma_1,\\sigma_2,\\cdots,\\sigma_n)$，则 $||A||_F = (\\sigma_1^2 + \\sigma_2^2 + \\cdots + \\sigma_n^2)^{\\frac{1}{2}}$ </b></font>\n",
    "    \n",
    "证明：若 $Q$ 是 $m$ 阶正交矩阵，则有 \n",
    "#### $$||QA||_F^2 = ||(Qa_1,Qa_2,\\cdots,Qa_n)||_F^2 = \\sum_{i=1}^n ||Qa_i||_2^2 = \\sum_{i=1}^n ||a_i||_2^2 = ||A||_F^2 \\Rightarrow ||QA||_F = ||A||_F$$\n",
    "同样地，若 $P$ 是 $n$ 阶正交矩阵，则有 $||AP^T||_F = ||A||_F$ \n",
    "\n",
    "故 <font size=4> $||A||_F = ||U\\Sigma V^T||_F = ||\\Sigma||_F = (\\sigma_1^2 + \\sigma_2^2 + \\cdots + \\sigma_n^2)^{\\frac{1}{2}}$ </font> \n",
    "\n",
    "\n",
    "<font size=4>**矩阵的最优解**</font>\n",
    "\n",
    "**奇异值分解是在平方损失（弗罗贝尼乌斯范数）意义下对矩阵的最优近似，即数据压缩。**\n",
    "\n",
    "**定理** 设矩阵 $A\\in R^{m\\times n}$， 矩阵的秩 $rank(A) = r$，并设 $\\mathcal{M}$ 为 $R^{m\\times n}$ 中所有**秩不超过 $k$ 的矩阵集合**， $0<k<r$，则存在一个秩为 $k$ 的矩阵 $X\\in \\mathcal{M}$，使得\n",
    "#### $$ ||A-X||_F = \\min\\limits_{S\\in \\mathcal{M}} ||A-S||_F$$\n",
    "称矩阵 $X$ 为矩阵 $A$ 在弗罗贝尼乌斯范数意义下的最优近似。\n",
    "\n",
    "**定理** 设矩阵 $A\\in R^{m\\times n}$，矩阵的秩 $rank(A) = r$，有奇异值分解 $A = U\\Sigma V^T$，并设 $\\mathcal{M}$ 为 $R^{m\\times n}$ 中所有秩不超过 $k$ 的矩阵的集合，$0<k<r$，若秩为 $k$ 的矩阵 $X\\in \\mathcal{M}$ 满足\n",
    "#### $$ ||A-X||_F = \\min\\limits_{S\\in \\mathcal{M}} ||A-S||_F $$ \n",
    "则\n",
    "#### $$ ||A-X||_F = (\\sigma_{k+1}^2 + \\sigma_{k+2}^2 + \\cdots + \\sigma_n^2)^{\\frac{1}{2}}$$ \n",
    "\n",
    "**紧奇异值分解是在弗罗贝尼乌斯范数意义下的无损压缩，截断奇异值分解是有损压缩。**\n"
   ]
  },
  {
   "cell_type": "markdown",
   "metadata": {},
   "source": [
    "<font size=4 color=\"blue\"> **利用外积展开式对矩阵 $A$ 的近似** </font>\n",
    "\n",
    "若将 $A$ 的奇异值分解看成矩阵 $U\\Sigma$ 和 $V^T$ 的乘积，将 $U\\Sigma$ 将列向量分块，将 $V^T$ 将行向量分块，即得：\n",
    "\n",
    "#### $$ U\\Sigma = [\\sigma_1u_1 \\quad \\sigma_2 u_2 \\quad \\cdots \\quad \\sigma_n u_n] $$\n",
    "#### $$V^T =  \\left [\\begin{align} & v_1^T \\\\\n",
    "                                       & v_2^T \\\\\n",
    "                                       & \\vdots \\\\\n",
    "                                       & v_n^T \\end{align}\\right] $$ \n",
    "则 <font size=4>$A = \\sigma_1u_1v_1^T + \\sigma_2u_2v_2^T + \\cdots + \\sigma_nu_nv_n^T$ </font>  称为 $A$ 的外积展开式。\n",
    "\n",
    "\n",
    "其中，\n",
    "#### $u_i v_j^T = \\left[\\begin{align} u_{1i}\\\\ u_{2i}\\\\ \\vdots \\\\ u_{mi}\\end{align}\\right] [v_{1j}\\quad v_{2j}\\quad \\cdots \\quad v_{nj}] $ $= \\left[\\begin{align} \n",
    "u_{1i}v_{1j} & \\quad & u_{1i}v_{2j} & \\quad & \\cdots & \\quad & u_{1i}v_{nj} \\\\ \n",
    "u_{2i}v_{1j} & \\quad & u_{2i}v_{2j} & \\quad & \\cdots & \\quad & u_{2i}v_{nj} \\\\ \n",
    "\\vdots       & \\quad & \\vdots       & \\quad & \\quad  & \\quad & \\quad \\vdots \\\\\n",
    "u_{mi}v_{1j} & \\quad & u_{mi}v_{2j} & \\quad & \\cdots & \\quad & u_{mi}v_{nj} \\\\  \\end{align}\\right]$ \n",
    "\n",
    "\n",
    "由外积展开式得到，若矩阵 $A$ 的秩为 $k$，则\n",
    "#### $$ A_k = \\sigma_1u_1v_1^T + \\sigma_2u_2v_2^T + \\cdots + \\sigma_ku_kv_k^T$$  \n",
    "$ A_k$ 是秩为 $k$ 的矩阵中在弗罗贝尼乌斯范数意义下 $A$ 的最优近似矩阵。 矩阵 $A_k$ 就是 $A$ 的截断奇异值分解。"
   ]
  },
  {
   "cell_type": "markdown",
   "metadata": {},
   "source": []
  },
  {
   "cell_type": "markdown",
   "metadata": {},
   "source": [
    "**待做 奇异值分解几何意义（图）**"
   ]
  },
  {
   "cell_type": "markdown",
   "metadata": {},
   "source": []
  },
  {
   "cell_type": "code",
   "execution_count": null,
   "metadata": {},
   "outputs": [],
   "source": []
  }
 ],
 "metadata": {
  "kernelspec": {
   "display_name": "Python 3",
   "language": "python",
   "name": "python3"
  },
  "language_info": {
   "codemirror_mode": {
    "name": "ipython",
    "version": 3
   },
   "file_extension": ".py",
   "mimetype": "text/x-python",
   "name": "python",
   "nbconvert_exporter": "python",
   "pygments_lexer": "ipython3",
   "version": "3.6.7"
  }
 },
 "nbformat": 4,
 "nbformat_minor": 4
}
