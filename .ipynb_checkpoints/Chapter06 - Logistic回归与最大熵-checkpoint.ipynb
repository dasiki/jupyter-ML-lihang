{
 "cells": [
  {
   "cell_type": "markdown",
   "metadata": {},
   "source": [
    "# <font><b>第六章 Logistic回归与最大熵模型</b></font>"
   ]
  },
  {
   "cell_type": "markdown",
   "metadata": {},
   "source": [
    "***********************"
   ]
  },
  {
   "cell_type": "markdown",
   "metadata": {},
   "source": [
    "1、最大熵是概率模型学习的一个准则，将其推广到分类问题得到最大熵模型(maxim entropy model)\n",
    "\n",
    "2、Logistic回归模型与最大熵模型都属于对数线性模型。\n"
   ]
  },
  {
   "cell_type": "markdown",
   "metadata": {},
   "source": [
    "## <font color='blue'><b>一、Logistic回归</b></font>"
   ]
  },
  {
   "cell_type": "markdown",
   "metadata": {},
   "source": [
    "* <font size = 4><b>Logistic分布</b></font>\n",
    "\n",
    "**定义（Logistic分布）** 设$X$是连续随机变量，$X$服从Logistic分布是指$X$具有下列分布函数和密度函数：\n",
    "#### $$F(x) = P(X\\leq x) = \\frac{1}{1+e^{-(x-\\mu)/\\gamma}}$$ $$f(x) = F'(x) = \\frac{e^{-(x-\\mu)/\\gamma}}{\\gamma(1+e^{-(x-\\mu)/\\gamma})^2}$$\n",
    "其中，$\\mu$为位置参数， $\\gamma >0$为形状参数\n",
    "\n",
    "* <font size = 4><b>二项Logistic回归模型(binomial logistic regression mmodel)</b></font> 是一种分类模型，由条件概率分布$P(Y|X)$表示，形式为参数化的logistic分布。这里，随机变量$X$取值为实数，随机变量$Y$取值为1或0.\n",
    "\n",
    "**定义（Logistic回归模型）** 二项Logistic回归模型是如下的条件概率分布：\n",
    "#### $$P(Y=1|x) = \\frac{exp(w\\cdot x +b)}{1 + exp(w\\cdot x +b)}\\\\ P(Y=0|x) = \\frac{1}{1 + exp(w\\cdot x +b)}$$ \n",
    "\n",
    "其中，$x\\in R^n$是输入，$Y\\in\\{0,1\\}$是输出，$w$ 为权值向量，$b$偏置，$w\\cdot b$ 为$w$ 和$b$的内积\n",
    "\n",
    "\n",
    "**Logistic回归模型的特点：** 一个事件的几率(odds)是指该事件发生的概率与该事件不发生的概率的比值，即\n",
    "#### $$\\frac{p}{1-p}$$\n",
    ", 其中，$p$为该事件发生的概率。该事件的对数几率(log odds)或logit函数是 \n",
    "#### $$\\begin{align} & logit(p) = log\\frac{p}{1-p} \\\\ \n",
    "         \\Rightarrow & logit(p) = log\\frac{P(Y=1|x)}{P(Y=0|x)} = log\\frac{\\frac{exp(w\\cdot x +b)}{1 + exp(w\\cdot x +b)}}{\\frac{1}{1 + exp(w\\cdot x +b)}}\\\\\n",
    "         \\Rightarrow & logit(p) = log(exp(w\\cdot x+b)) = w\\cdot x + b  \\end{align}$$\n",
    "\n",
    "\n",
    "* <font size = 4><b>模型参数估计</b></font> Logistic回归模型学习时，对于给定的训练数据集$T = \\{(x_i,y_i)\\},i = 1,2,\\cdots,N; y_i \\in \\{0,1\\}$, 可以应用 **极大似然估计法**估计模型参数：\n",
    "\n",
    "设：\n",
    "#### $$P(Y=1|x) = \\pi(x), P(Y=0|x) = 1 - \\pi(x)$$\n",
    "似然函数为\n",
    "### $$\\prod_{i=1}^N[\\pi(x_i)]^{y_i}[1 - \\pi(x_i)]^{1 - y_i}$$\n",
    "对数似然函数为 \n",
    "#### $$\\begin{align} L(w) &= \\sum_{i=1}^N[y_ilog\\pi(x_i) + (1-y_i)log(1-\\pi(x_i))] \\\\ \n",
    "                               &= \\sum_{i=1}^N[y_ilog\\frac{\\pi(x_i)}{1-\\pi(x_i)} + log(1-\\pi(x_i))] \\\\\n",
    "                               &= \\sum_{i=1}^N[y_ilog\\frac{\\pi(x_i)}{1-\\pi(x_i)} + log(1-\\frac{exp(w\\cdot x_i)}{1+exp(w\\cdot x_i)})] \\\\   \n",
    "                               &= \\sum_{i=1}^N[y_ilog\\frac{\\pi(x_i)}{1-\\pi(x_i)} + log(\\frac{1}{1+exp(w\\cdot x_i)})] \\\\  \n",
    "                               & = \\sum_{i=1}^N[y_i(w\\cdot x_i) - log(1+exp(w\\cdot x_i))] \\end{align}$$\n",
    "对$L(w)$求极大值，得到$w$的估计值\n",
    "\n",
    "假设$w$的极大似然估计值是$\\hat{w}$, 那么学得的Logistic回归模型是\n",
    "#### $$P(Y=1|x) = \\frac{exp(\\hat{w}\\cdot x)}{1+exp(\\hat{w}\\cdot x)} \\\\ P(Y=0|x) = \\frac{1}{1+exp(\\hat{w}\\cdot x)}$$\n",
    "\n",
    "\n",
    "* <font size = 4><b>多项Logistic回归（multi-nominal logistic regression model）</b></font> 用于多分类。假设离散随机变量$Y$的取值集合是$\\{1,2,\\cdots,K\\}$，那么多项式Logistic回归模型是\n",
    "#### $$P(Y=k|x) = \\frac{exp(w_k\\cdot x)}{1+\\sum\\limits_{k=1}^{K-1}exp(w_k\\cdot x) }, k=1,2,\\cdots,K-1$$\n",
    "#### $$P(Y=K|x) = \\frac{1}{1+\\sum\\limits_{k=1}^{K-1}exp(w_k\\cdot x) }, k=1,2,\\cdots,K-1$$\n",
    "\n",
    "\n"
   ]
  },
  {
   "cell_type": "markdown",
   "metadata": {},
   "source": [
    "****************"
   ]
  },
  {
   "cell_type": "markdown",
   "metadata": {},
   "source": [
    "## <font color='blue'><b>二、最大熵模型</b></font>"
   ]
  },
  {
   "cell_type": "markdown",
   "metadata": {},
   "source": [
    "* <font size = 4><b>最大熵原理</b></font> 最大熵原理是概率模型学习的一个准则。\n",
    "\n",
    "假设离散随机变量$X$的概率分布是$P(X)$，则其熵是\n",
    "#### $$H(P) = -\\sum_xP(x)logP(x)$$\n",
    "熵满足下列不等式：\n",
    "#### $$0 \\leq H(P) \\leq log|X|$$\n",
    "式中，$|X|$是$X$的取值个数。当且仅当$X$的分布是均匀分布时，右边的等号成立。也就是说，当$X$服从均匀分布时，熵最大。\n",
    "\n",
    "\n",
    "* <font size = 4><b>最大熵模型定义</b></font> 假设分类模型是一个条件概率分布$P(Y|X)$\n",
    "\n",
    "* 给定训练数据集，其\n",
    "### 联合分布 $\\tilde{P}(X =x,Y=y) = \\frac{\\nu(X =x,Y=y)}{N}$\n",
    "### 边缘分布 $\\tilde{P}(X =x) = \\frac{\\nu(X =x)}{N}$ \n",
    "其中，$\\nu(X =x,Y=y)$ 表示训练数据中，样本$(x,y)$出现的频数，$\\nu(X =x)$ 表示输出$X$出现的频数，$N$表示训练样本数量\n",
    "\n",
    "用特征函数$f(x,y)$描述输入$x$和输出$y$之间的某一事件：\n",
    "#### $$f(x,y) = \\left\\{\\begin{aligned} 1         ,& x与y满足某一事实 \\\\\n",
    "                                       0         ,& otherwise\n",
    "                                       \\end{aligned}\\right.$$\n",
    "                                       \n",
    "特征函数$f(x,y)$关于经验分布$\\tilde{P}(X,Y)$的期望：<font size=4><b>$E_{\\tilde{P}}(f) = \\sum_{x,y}\\tilde{P}(x,y)f(x,y)$</b></font>\n",
    "\n",
    "特征函数$f(x,y)$关于模型$P(X,Y)$与经验分布$\\tilde{P}(X)$的期望：<font size=4><b>$E_{P}(f) = \\sum_{x,y}\\tilde{P}(x)P(y|x)f(x,y)$</b></font>\n",
    "\n",
    "假设这两个期望相等（约束条件）：\n",
    "#### $$\\begin{align} & E_{P}(f) = E_{\\tilde{P}}(f) \\\\ \\Rightarrow & \\sum_{x,y}\\tilde{P}(x)P(y|x)f(x,y) = \\sum_{x,y}\\tilde{P}(x,y)f(x,y) \\end{align} $$\n",
    "\n",
    "#### **定义（最大熵模型）** \n",
    "\n",
    "假设满足所有约束条件的模型集合为\n",
    "#### $$C \\equiv -\\sum_{x,y}\\tilde{P}(x)P(y|x)logP(y|x)$$\n",
    "则模型集合$C$中条件熵$H(P)$最大的模型称为最大熵模型。式中的对数为自然对数。\n"
   ]
  },
  {
   "cell_type": "markdown",
   "metadata": {},
   "source": [
    "* <font size = 4><b>最大熵模型的学习</b></font> 最大熵模型的学习过程就是求解最大熵模型的过程。最大熵模型的学习可以形式化为约束最优化问题\n",
    "\n",
    "对于给定的训练数据集$T=\\{(x_1,y_1),(x_2,y_2),\\cdots,(x_N,y_N)\\}$，及特征函数$f(x,y), i=1,2,\\cdots,n$, 最大熵模型的学习等价于约束最优化问题：\n",
    "####  $$\\begin{align} \\mathop {max}\\limits_{P\\in C} & H(P) = - \\sum_{x,y}\\tilde{P}(x)P(y|x)logP(y|x)  \\\\\n",
    "                                               s.t.  \\quad & E_{P}(f_i) = E_{\\tilde{P}}(f_i), i=1,2,\\cdots,n \\\\\n",
    "                                                    & \\sum_y P(y|x) =1 \\end{align}\n",
    "$$\n",
    "按照最优化问题的习惯，将求最大值问题改写为等价的求最小值问题：\n",
    "####  $$\\begin{align} \\mathop {min}\\limits_{P\\in C} & -H(P) = \\sum_{x,y}\\tilde{P}(x)P(y|x)logP(y|x)  \\\\\n",
    "                                        s.t.  \\quad & E_{P}(f_i) - E_{\\tilde{P}}(f_i) = 0 , i=1,2,\\cdots,n \\\\\n",
    "                                                    & \\sum_y P(y|x) =1 \\end{align}\n",
    "$$\n",
    "**解：**\n",
    "1）引入拉格朗日乘子$w_0,w_1,\\cdots,w_n$， 定义拉格朗日函数$L(P,w)$: \n",
    "#### $$\\begin{align} L(P,w) & \\equiv -H(P) + w_0(1-\\sum_y P(y|x)) + \\sum_{i=1}^nw_i(E_{\\tilde{P}}(f_i) - E_{P}(f_i)) \\\\\n",
    "                            & = \\sum_{x,y}\\tilde{P}(x)P(y|x)logP(y|x) + w_0(1-\\sum_y P(y|x)) + \\sum_{i=1}^nw_i(\\sum_{x,y}\\tilde{P}(x,y)f_i(x,y) - \\sum_{x,y}\\tilde{P}(x)P(y|x)f_i(x,y)) \\end{align}$$\n",
    "\n",
    "\n",
    "*****\n",
    "\n",
    "\n",
    "* <font size = 4><b>极大似然估计</b></font>"
   ]
  },
  {
   "cell_type": "markdown",
   "metadata": {},
   "source": [
    "最优化的原始问题是\n",
    "#### $$\\mathop {min}\\limits_{P\\in C} \\mathop{max}\\limits_w L(P,w)$$ \n",
    "其对偶问题是\n",
    "#### $$\\mathop{max}\\limits_w  \\mathop {min}\\limits_{P\\in C} L(P,w)$$ \n",
    "由于原始问题与对偶问题是等价的，可以通过求解对偶问题来求解原始问题。\n",
    "\n",
    "设关于$w$的函数 $\\mathop {min}\\limits_{P\\in C} L(P,w)$\n",
    "#### $$\\Psi (w) = \\mathop {min}\\limits_{P\\in C} L(P,w) = L(P_w,w)$$\n",
    "其中，\n",
    "#### $$P_w = arg \\mathop{min}\\limits_{P\\in C}L(P,w) = P_w(y|x)$$\n",
    "具体的，求$L(P,w)$对$P(y|x)$的偏导数\n",
    "#### $$\\begin{align} \\frac{\\partial{L(P,w)}}{\\partial{P(y|x)}} &= \\sum_{x,y}\\tilde{P}(x)logP(y|x) + \\sum_{x,y}\\tilde{P}(x)P(y|x)\\frac{1}{P(y|x)} - \\sum_yw_0 + \\sum_{i=1}^nw_i(0 - \\sum_{x,y}\\tilde{P}(x)f_i(x,y)) \\\\\n",
    "                                                               &= \\sum_{x,y}\\tilde{P}(x)(logP(y|x) + 1) - \\sum_yw_0 - \\sum_{x,y}(\\tilde{P}(x)\\sum_{i=1}^nw_if_i(x,y)) \\\\\n",
    "                                                               &= \\sum_{x,y}\\tilde{P}(x)\\big(logP(y|x) + 1 - w_0 - \\sum_{i=1}^nw_if_i(x,y)\\big)\n",
    "\\end{align}$$\n",
    "\n",
    "#### $$令 \\quad \\frac{\\partial{L(P,w)}}{\\partial{P(y|x)}} =0 \\quad \\Rightarrow P(y|x) = exp\\big( \\sum_{i=1}^nw_if_i(x,y) + w_0 -1 \\big) = \\frac{exp\\big( \\sum\\limits_{i=1}^nw_if_i(x,y) \\big)}{exp(1-w_0)}$$\n",
    "\n",
    "\n",
    "#### $由于 \\sum_yP(y|x) = 1 $ ： \n",
    "\n",
    "最大熵模型\n",
    "#### $$P_w = P_w(y|x) = \\frac{1}{Z_w(x)} exp\\big(\\sum_{i=1}^n w_if_i(x,y) \\big), 其中，Z_w(x) = \\sum_y exp\\big( \\sum_{i=1}^n w_if_i(x,y)\\big)$$\n",
    "其中，$Z_w(x)$称为规范化因子。$f_i(x,y)$是特征函数，$w_i$是特征的权值。$P_w中的w$是最大熵模型中的参数向量。\n",
    "\n",
    "最后，求解 \n",
    "#### $$w^{*} = arg \\mathop {max}\\limits_w \\Psi (w)$$"
   ]
  },
  {
   "cell_type": "markdown",
   "metadata": {},
   "source": [
    "## <font color='blue'><b>三、模型学习的最优化算法</b></font>"
   ]
  },
  {
   "cell_type": "markdown",
   "metadata": {},
   "source": [
    "* <font size = 4><b>改进的迭代尺度法（improved iterative scaling,IIS）</b></font> 是一种最大熵模型学习的最优化算法。\n",
    "<font size = 8> \n",
    "\n",
    "**算法（改进的迭代尺度法（improved iterative scaling,IIS））**\n",
    "    \n",
    "输入： 特征函数$f_1,f_2,\\cdots,f_n$；经验分布$\\tilde{P}(X,Y)$, 模型$P_w(y|x)$ \n",
    "\n",
    "输出：最优参数值 $w_i^*$  ; 最优模型$P_{w^*}$\n",
    "    \n",
    "(1) 对所有$i\\in\\{1,2,\\cdots,n\\}$, 取初始$w_i=0$\n",
    "\n",
    "(2) 对每一个 $i\\in\\{1,2,\\cdots,n\\}$ \n",
    "\n",
    "   (a) 令$\\delta_i$ 是方程\n",
    "   ### $$\\sum_{x,y}\\tilde{P}(x)P(y|x)f_i(x,y)exp(\\delta_i f^\\#(x,y)) = E_{\\tilde{P}}(f_i)$$\n",
    "   的解 ，其中，\n",
    "   #### $$f^\\#(x,y) = \\sum_{i=1}^nf_i(x,y)$$\n",
    "   \n",
    "   (b) 更新$w_i$的值： $w_i\\leftarrow w_i+\\delta_i$\n",
    "   \n",
    "   (3) 如果不是所有$w_i$都收敛，重复(2)\n",
    "    \n",
    "</font>"
   ]
  },
  {
   "cell_type": "markdown",
   "metadata": {},
   "source": [
    "* <font size = 4><b>拟牛顿法（BFGS） </b></font>\n",
    "\n",
    "**算法(最大熵模型学习的BFGS算法)** \n",
    "\n",
    "输入：特征函数$f_1,f_2,\\cdots,f_n$；经验分布$\\tilde{P}(X,Y)$,目标函数$f(w)$，梯度$g(w) = \\nabla f(w)$, 精度要求 $\\epsilon$\n",
    "\n",
    "输出：最优参数值$w^*$,最优模型P_w（y|x)\n",
    "\n",
    "(1) 选定初始点$w^{(0)}$,取$B_0$为正定对称矩阵，置k=0\n",
    "(2) 计算$g(k) = g(w^{(k)})$。 若$||g_k||<\\epsilon$，则停止计算，得$w^* = w^{(k)}$,否则转（3）\n",
    "(3) 由$B_kp_k = - g_k$ 求出 $p_k$\n",
    "(4) 一维搜索：求$\\lambda_k$ 使得\n",
    "#### $$f(w^{(k)} + \\lambda_kp_k) = \\mathop {min}\\limits_{\\lambda \\geq 0}f(w^{(k)} + \\lambda p_k)$$\n",
    "\n",
    "(5) 置<font size=4>$w^{(k+1)} = w^{(k)} + \\lambda_kp_k$</font>\n",
    "\n",
    "(6) 计算$g_{k+1} = g(w^{(k+1)})$ 若$||g_{k+1}||<\\epsilon$, 则停止计算，得$w^* = w^{(k+1)}$; 否则按下式求出$B_{k+1}$: \n",
    "#### $$B_{k+1} = B_k + \\frac{y_k y_k^T}{y_k^T\\delta_k} - \\frac{B_k\\delta_k\\delta_k^TB_k}{\\delta_k^TB_k\\delta_k}$$\n",
    "其中，\n",
    "#### $$y_k = g_{k+1} - g_k, \\delta_k = w^{(k+1)} -  w^{(k)}$$\n",
    "\n",
    "(7) 置k=k+1,转(3)"
   ]
  },
  {
   "cell_type": "markdown",
   "metadata": {},
   "source": [
    "*****"
   ]
  },
  {
   "cell_type": "code",
   "execution_count": 1,
   "metadata": {},
   "outputs": [],
   "source": [
    "import numpy as np\n",
    "import pandas as pd\n",
    "from sklearn.datasets import load_iris\n",
    "import matplotlib.pyplot as plt\n",
    "%matplotlib inline\n",
    "\n",
    "from sklearn.model_selection import train_test_split\n",
    "from collections import Counter\n",
    "\n",
    "def get_data():\n",
    "    # 加载数据\n",
    "    iris = load_iris()\n",
    "    df = pd.DataFrame(iris.data,columns=iris.feature_names)\n",
    "    df[\"label\"] = iris.target\n",
    "\n",
    "    # 重新定义列名\n",
    "    df.columns = [\"sepal length\",\"sepal width\",\"petal length\",\"petal width\",\"label\"]\n",
    "\n",
    "    # 定义输入数据集 取第0，1，及最后一列，前100条数据\n",
    "    data = np.array(df.iloc[:100,[0,1,-1]])\n",
    "\n",
    "    X=data[:,:-1]\n",
    "    y=data[:,-1]\n",
    "\n",
    "    return X,y\n",
    "\n",
    "\n"
   ]
  },
  {
   "cell_type": "code",
   "execution_count": 4,
   "metadata": {},
   "outputs": [],
   "source": [
    "X,y = get_data()\n",
    "\n",
    "# 划分训练集、测试集\n",
    "X_train, X_test, y_train, y_test = train_test_split(X,y,test_size=0.2)\n",
    "\n"
   ]
  },
  {
   "cell_type": "code",
   "execution_count": 61,
   "metadata": {},
   "outputs": [],
   "source": [
    "max_iter = 200 #最大迭代次数\n",
    "learning_rate = 0.01\n",
    "\n",
    "def sigmoid(x):\n",
    "    return 1/(1+np.exp(-x))\n",
    "\n",
    "def data_matrix(X):\n",
    "    data_mat = []\n",
    "    \n",
    "    for d in X:\n",
    "        data_mat.append([1,*d])\n",
    "        \n",
    "    return data_mat\n",
    "    "
   ]
  },
  {
   "cell_type": "code",
   "execution_count": 78,
   "metadata": {},
   "outputs": [
    {
     "name": "stdout",
     "output_type": "stream",
     "text": [
      "logisticRegression Model(learning_rate = 0.01,max_iter=200)\n",
      "weights: [[-1.1407939]\n",
      " [ 3.8921633]\n",
      " [-6.2533207]]\n"
     ]
    }
   ],
   "source": [
    "   \n",
    "data_mat = data_matrix(X)\n",
    "\n",
    "weights = np.zeros(((len(data_mat[0]),1)),dtype = np.float32)\n",
    "\n",
    "for iter in range(max_iter):\n",
    "    for i in range(len(X)):\n",
    "        result = sigmoid(np.dot(data_mat[i],weights))\n",
    "        err = y[i] - result \n",
    "        weights += learning_rate*err*np.transpose([data_mat[i]])\n",
    "\n",
    "print(\"logisticRegression Model(learning_rate = {},max_iter={})\".format(learning_rate,max_iter))\n",
    "print(\"weights:\",weights)\n",
    "# return -(weights[0] + weights[1] * X) / weights[2]"
   ]
  },
  {
   "cell_type": "code",
   "execution_count": 79,
   "metadata": {},
   "outputs": [
    {
     "data": {
      "text/plain": [
       "<matplotlib.legend.Legend at 0x1d216cffa58>"
      ]
     },
     "execution_count": 79,
     "metadata": {},
     "output_type": "execute_result"
    },
    {
     "data": {
      "image/png": "[encoded data removed]",
      "text/plain": [
       "<Figure size 432x288 with 1 Axes>"
      ]
     },
     "metadata": {
      "needs_background": "light"
     },
     "output_type": "display_data"
    }
   ],
   "source": [
    "# 画图\n",
    "x_points = np.arange(4,8)\n",
    "\n",
    "y_ = -(weights[1]*x_points + weights[0])/weights[2]\n",
    "plt.plot(x_points,y_)\n",
    "\n",
    "plt.scatter(X[:50,0],X[:50,1],label=\"0\")\n",
    "plt.scatter(X[50:,0],X[50:,1],label = \"1\")\n",
    "plt.legend()"
   ]
  },
  {
   "cell_type": "markdown",
   "metadata": {},
   "source": [
    "* 最大熵"
   ]
  },
  {
   "cell_type": "code",
   "execution_count": 80,
   "metadata": {},
   "outputs": [],
   "source": [
    "dataset = [['no', 'sunny', 'hot', 'high', 'FALSE'],\n",
    "           ['no', 'sunny', 'hot', 'high', 'TRUE'],\n",
    "           ['yes', 'overcast', 'hot', 'high', 'FALSE'],\n",
    "           ['yes', 'rainy', 'mild', 'high', 'FALSE'],\n",
    "           ['yes', 'rainy', 'cool', 'normal', 'FALSE'],\n",
    "           ['no', 'rainy', 'cool', 'normal', 'TRUE'],\n",
    "           ['yes', 'overcast', 'cool', 'normal', 'TRUE'],\n",
    "           ['no', 'sunny', 'mild', 'high', 'FALSE'],\n",
    "           ['yes', 'sunny', 'cool', 'normal', 'FALSE'],\n",
    "           ['yes', 'rainy', 'mild', 'normal', 'FALSE'],\n",
    "           ['yes', 'sunny', 'mild', 'normal', 'TRUE'],\n",
    "           ['yes', 'overcast', 'mild', 'high', 'TRUE'],\n",
    "           ['yes', 'overcast', 'hot', 'normal', 'FALSE'],\n",
    "           ['no', 'rainy', 'mild', 'high', 'TRUE']]"
   ]
  },
  {
   "cell_type": "code",
   "execution_count": 82,
   "metadata": {},
   "outputs": [
    {
     "data": {
      "text/plain": [
       "[['no', 'sunny', 'hot', 'high', 'FALSE'],\n",
       " ['no', 'sunny', 'hot', 'high', 'TRUE'],\n",
       " ['yes', 'overcast', 'hot', 'high', 'FALSE'],\n",
       " ['yes', 'rainy', 'mild', 'high', 'FALSE'],\n",
       " ['yes', 'rainy', 'cool', 'normal', 'FALSE'],\n",
       " ['no', 'rainy', 'cool', 'normal', 'TRUE'],\n",
       " ['yes', 'overcast', 'cool', 'normal', 'TRUE'],\n",
       " ['no', 'sunny', 'mild', 'high', 'FALSE'],\n",
       " ['yes', 'sunny', 'cool', 'normal', 'FALSE'],\n",
       " ['yes', 'rainy', 'mild', 'normal', 'FALSE'],\n",
       " ['yes', 'sunny', 'mild', 'normal', 'TRUE'],\n",
       " ['yes', 'overcast', 'mild', 'high', 'TRUE'],\n",
       " ['yes', 'overcast', 'hot', 'normal', 'FALSE'],\n",
       " ['no', 'rainy', 'mild', 'high', 'TRUE']]"
      ]
     },
     "execution_count": 82,
     "metadata": {},
     "output_type": "execute_result"
    }
   ],
   "source": [
    "dataset"
   ]
  },
  {
   "cell_type": "code",
   "execution_count": 99,
   "metadata": {},
   "outputs": [],
   "source": [
    "# 初始化变量\n",
    "_samples = []\n",
    "_Y = set()   # 标签集合，相当于去重后的y\n",
    "_numXY = {}  # key为(x,y),value为出现次数\n",
    "_N = 0       # 样本数\n",
    "_Ep_ = []    # 样本分布的特征期望值\n",
    "_xyID = {}   # key为(x,y),value为记录ID号\n",
    "_n = 0       # 特征键值(x,y)的个数\n",
    "_C = 0       # 最大特征数\n",
    "_IDxy = {}   # key为(x,y),value 为对应的id号\n",
    "_w = []      # 权重\n",
    "_EPS = 0.005 # 收敛条件\n",
    "_lastw = []  # 上一次w参数值\n"
   ]
  },
  {
   "cell_type": "code",
   "execution_count": null,
   "metadata": {},
   "outputs": [],
   "source": [
    "_samples = dataset \n",
    "\n",
    "for items in _samples:\n",
    "    X = items[1:]\n",
    "    y = items[0]\n",
    "    \n",
    "    _Y.add(y) \n",
    "    \n",
    "    for x in X:\n",
    "        if (x,y) in _numXY :\n",
    "            _numXY[(x,y)] += 1\n",
    "        else:\n",
    "            _numXY[(x,y)] = 1\n",
    "            \n",
    "_N = len(_samples)       # 样本数\n",
    "_n = len(_numXY)        # 特征键值(x,y)的个数\n",
    "_C = max(len(sample) - 1 for sample in _samples)   # 最大特征数\n",
    "_w = [0] * _n               # 权重\n",
    "_lastw = _w[:]        #上一次w参数值\n",
    "\n",
    "_Ep_ = [0]*_n     # 样本分布的特征期望值\n",
    "for i,xy in enumerate(_numXY) : # 计算特征f关于经验分布的期望\n",
    "    _Ep_[i] = _numXY[xy]/_N  \n",
    "    _xyID[xy] = i\n",
    "    _IDxy[i] = xy\n",
    "\n"
   ]
  },
  {
   "cell_type": "markdown",
   "metadata": {},
   "source": [
    "#### 最大熵模型 $$P_w = P_w(y|x) = \\frac{1}{Z_w(x)}exp\\big(\\sum_{i=1}^n w_if_i(x,y) \\big),\\quad Z_w(x) = \\sum_y exp\\big(\\sum_{i=1}^n w_if_i(x,y)\\big)$$"
   ]
  },
  {
   "cell_type": "code",
   "execution_count": 140,
   "metadata": {},
   "outputs": [],
   "source": [
    "def _Zx(X): ##计算Z_w(x)\n",
    "    zx = 0 \n",
    "    for y in _Y:\n",
    "        ss = 0\n",
    "        for x in X:            \n",
    "            if (x,y) in _numXY:\n",
    "                ss += _w[_xyID[(x,y)]]\n",
    "        zx += np.exp(ss)\n",
    "    return zx    \n",
    "\n",
    "def _model_pyx(y,X): ##计算p(y|x)\n",
    "    zx = _Zx(X)\n",
    "    ss = 0 \n",
    "    for x in X:\n",
    "        if (x,y) in _numXY:\n",
    "            ss += _w[_xyID[(x,y)]]\n",
    "    pyx = np.exp(ss)/zx \n",
    "    return pyx\n",
    "   \n",
    "# _Ep_ = []    # 样本分布的特征期望值\n",
    "# _xyID = {}   # key为(x,y),value为记录ID号8\n",
    "# _IDxy = {}   # key为(x,y),value 为对应的id号8\n",
    "# _EPS = 0.005 # 收敛条件\n"
   ]
  },
  {
   "cell_type": "markdown",
   "metadata": {},
   "source": [
    "* 给定训练数据集，其\n",
    "### 联合分布 $\\tilde{P}(X =x,Y=y) = \\frac{\\nu(X =x,Y=y)}{N}$\n",
    "### 边缘分布 $\\tilde{P}(X =x) = \\frac{\\nu(X =x)}{N}$ \n",
    "其中，$\\nu(X =x,Y=y)$ 表示训练数据中，样本$(x,y)$出现的频数，$\\nu(X =x)$ 表示输出$X$出现的频数，$N$表示训练样本数量"
   ]
  },
  {
   "cell_type": "code",
   "execution_count": 138,
   "metadata": {},
   "outputs": [],
   "source": [
    "x,y = "
   ]
  }
 ],
 "metadata": {
  "kernelspec": {
   "display_name": "Python 3",
   "language": "python",
   "name": "python3"
  },
  "language_info": {
   "codemirror_mode": {
    "name": "ipython",
    "version": 3
   },
   "file_extension": ".py",
   "mimetype": "text/x-python",
   "name": "python",
   "nbconvert_exporter": "python",
   "pygments_lexer": "ipython3",
   "version": "3.6.7"
  }
 },
 "nbformat": 4,
 "nbformat_minor": 4
}
